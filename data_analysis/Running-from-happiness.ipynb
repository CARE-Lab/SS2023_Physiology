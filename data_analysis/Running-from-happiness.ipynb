{
 "cells": [
  {
   "cell_type": "code",
   "execution_count": 1,
   "id": "024b7b18",
   "metadata": {},
   "outputs": [],
   "source": [
    "import os\n",
    "import pandas as pd\n",
    "import numpy  as np\n",
    "from scipy.fft    import dct, idct\n",
    "from scipy.signal import butter, savgol_filter, ellip, filtfilt, detrend\n",
    "from matplotlib   import pylab as plt"
   ]
  },
  {
   "cell_type": "markdown",
   "id": "cd327791",
   "metadata": {},
   "source": [
    "## Load data"
   ]
  },
  {
   "cell_type": "code",
   "execution_count": 2,
   "id": "e0f2cb9f",
   "metadata": {},
   "outputs": [
    {
     "data": {
      "text/plain": [
       "['02_EMG_SS2023_Exp1_Session1_Shimmer_F16C_Calibrated_SD.csv',\n",
       " '03_EDA_SS2023_Exp1_Session1_Shimmer_86D4_Calibrated_SD.csv',\n",
       " '03_EMG_SS2023_Exp1_Session1_Shimmer_EC8E_Calibrated_SD.csv',\n",
       " '04_EMG_SS2023_Exp1_Session1_Shimmer_EC93_Calibrated_SD.csv']"
      ]
     },
     "execution_count": 2,
     "metadata": {},
     "output_type": "execute_result"
    }
   ],
   "source": [
    "# paths were the preprocessed data is\n",
    "root_path = 'data/'\n",
    "data_path = os.path.join(root_path, 'Processed')\n",
    "emg_path  = os.path.join(data_path, 'EMG')\n",
    "\n",
    "# paths were the output should be\n",
    "out_path = os.path.join(root_path, 'Running-happiness')\n",
    "\n",
    "# check if the output folders exist and create them if necessary\n",
    "for folder in [out_path]:\n",
    "    if not os.path.exists(folder):\n",
    "        os.mkdir(folder)\n",
    "\n",
    "# list all files (ignoring the hidden macos file)\n",
    "emg_files = [x for x in os.listdir(emg_path) if x.endswith('.csv')]\n",
    "emg_files"
   ]
  },
  {
   "cell_type": "code",
   "execution_count": 3,
   "id": "24654127",
   "metadata": {},
   "outputs": [
    {
     "data": {
      "text/html": [
       "<div>\n",
       "<style scoped>\n",
       "    .dataframe tbody tr th:only-of-type {\n",
       "        vertical-align: middle;\n",
       "    }\n",
       "\n",
       "    .dataframe tbody tr th {\n",
       "        vertical-align: top;\n",
       "    }\n",
       "\n",
       "    .dataframe thead th {\n",
       "        text-align: right;\n",
       "    }\n",
       "</style>\n",
       "<table border=\"1\" class=\"dataframe\">\n",
       "  <thead>\n",
       "    <tr style=\"text-align: right;\">\n",
       "      <th></th>\n",
       "      <th>timestamp_UNIX</th>\n",
       "      <th>CH1</th>\n",
       "      <th>CH2</th>\n",
       "      <th>trial</th>\n",
       "      <th>participant</th>\n",
       "    </tr>\n",
       "  </thead>\n",
       "  <tbody>\n",
       "    <tr>\n",
       "      <th>0</th>\n",
       "      <td>1.677476e+12</td>\n",
       "      <td>1.840104</td>\n",
       "      <td>3.233574</td>\n",
       "      <td>1</td>\n",
       "      <td>2</td>\n",
       "    </tr>\n",
       "    <tr>\n",
       "      <th>1</th>\n",
       "      <td>1.677476e+12</td>\n",
       "      <td>1.839839</td>\n",
       "      <td>3.233450</td>\n",
       "      <td>1</td>\n",
       "      <td>2</td>\n",
       "    </tr>\n",
       "    <tr>\n",
       "      <th>2</th>\n",
       "      <td>1.677476e+12</td>\n",
       "      <td>1.839578</td>\n",
       "      <td>3.233326</td>\n",
       "      <td>1</td>\n",
       "      <td>2</td>\n",
       "    </tr>\n",
       "    <tr>\n",
       "      <th>3</th>\n",
       "      <td>1.677476e+12</td>\n",
       "      <td>1.839319</td>\n",
       "      <td>3.233202</td>\n",
       "      <td>1</td>\n",
       "      <td>2</td>\n",
       "    </tr>\n",
       "    <tr>\n",
       "      <th>4</th>\n",
       "      <td>1.677476e+12</td>\n",
       "      <td>1.839063</td>\n",
       "      <td>3.233078</td>\n",
       "      <td>1</td>\n",
       "      <td>2</td>\n",
       "    </tr>\n",
       "  </tbody>\n",
       "</table>\n",
       "</div>"
      ],
      "text/plain": [
       "   timestamp_UNIX       CH1       CH2  trial  participant\n",
       "0    1.677476e+12  1.840104  3.233574      1            2\n",
       "1    1.677476e+12  1.839839  3.233450      1            2\n",
       "2    1.677476e+12  1.839578  3.233326      1            2\n",
       "3    1.677476e+12  1.839319  3.233202      1            2\n",
       "4    1.677476e+12  1.839063  3.233078      1            2"
      ]
     },
     "execution_count": 3,
     "metadata": {},
     "output_type": "execute_result"
    }
   ],
   "source": [
    "df = pd.DataFrame()\n",
    "\n",
    "for file in emg_files:\n",
    "    filepath = os.path.join(emg_path, file)\n",
    "    if df.empty:\n",
    "        df       = pd.read_csv(filepath)\n",
    "        df['participant'] = int(file.split('_')[0])\n",
    "    else:\n",
    "        tmp_df = pd.read_csv(filepath)\n",
    "        tmp_df['participant'] = int(file.split('_')[0])\n",
    "        df = df.append(tmp_df)\n",
    "\n",
    "df.head()"
   ]
  },
  {
   "cell_type": "markdown",
   "id": "5f39cb5c",
   "metadata": {},
   "source": [
    "## Plot data"
   ]
  },
  {
   "cell_type": "code",
   "execution_count": 4,
   "id": "b099e49b",
   "metadata": {},
   "outputs": [
    {
     "data": {
      "text/plain": [
       "['02_EMG_SS2023_Exp1_Session1_Shimmer_F16C_Calibrated_SD.csv',\n",
       " '03_EDA_SS2023_Exp1_Session1_Shimmer_86D4_Calibrated_SD.csv',\n",
       " '03_EMG_SS2023_Exp1_Session1_Shimmer_EC8E_Calibrated_SD.csv',\n",
       " '04_EMG_SS2023_Exp1_Session1_Shimmer_EC93_Calibrated_SD.csv']"
      ]
     },
     "execution_count": 4,
     "metadata": {},
     "output_type": "execute_result"
    }
   ],
   "source": [
    "emg_files"
   ]
  },
  {
   "cell_type": "code",
   "execution_count": 5,
   "id": "f312ef87",
   "metadata": {},
   "outputs": [
    {
     "data": {
      "text/html": [
       "<div>\n",
       "<style scoped>\n",
       "    .dataframe tbody tr th:only-of-type {\n",
       "        vertical-align: middle;\n",
       "    }\n",
       "\n",
       "    .dataframe tbody tr th {\n",
       "        vertical-align: top;\n",
       "    }\n",
       "\n",
       "    .dataframe thead th {\n",
       "        text-align: right;\n",
       "    }\n",
       "</style>\n",
       "<table border=\"1\" class=\"dataframe\">\n",
       "  <thead>\n",
       "    <tr style=\"text-align: right;\">\n",
       "      <th></th>\n",
       "      <th>timestamp_UNIX</th>\n",
       "      <th>CH1</th>\n",
       "      <th>CH2</th>\n",
       "      <th>trial</th>\n",
       "      <th>participant</th>\n",
       "    </tr>\n",
       "  </thead>\n",
       "  <tbody>\n",
       "    <tr>\n",
       "      <th>0</th>\n",
       "      <td>1.677476e+12</td>\n",
       "      <td>1.840104</td>\n",
       "      <td>3.233574</td>\n",
       "      <td>1</td>\n",
       "      <td>2</td>\n",
       "    </tr>\n",
       "    <tr>\n",
       "      <th>1</th>\n",
       "      <td>1.677476e+12</td>\n",
       "      <td>1.839839</td>\n",
       "      <td>3.233450</td>\n",
       "      <td>1</td>\n",
       "      <td>2</td>\n",
       "    </tr>\n",
       "    <tr>\n",
       "      <th>2</th>\n",
       "      <td>1.677476e+12</td>\n",
       "      <td>1.839578</td>\n",
       "      <td>3.233326</td>\n",
       "      <td>1</td>\n",
       "      <td>2</td>\n",
       "    </tr>\n",
       "    <tr>\n",
       "      <th>3</th>\n",
       "      <td>1.677476e+12</td>\n",
       "      <td>1.839319</td>\n",
       "      <td>3.233202</td>\n",
       "      <td>1</td>\n",
       "      <td>2</td>\n",
       "    </tr>\n",
       "    <tr>\n",
       "      <th>4</th>\n",
       "      <td>1.677476e+12</td>\n",
       "      <td>1.839063</td>\n",
       "      <td>3.233078</td>\n",
       "      <td>1</td>\n",
       "      <td>2</td>\n",
       "    </tr>\n",
       "  </tbody>\n",
       "</table>\n",
       "</div>"
      ],
      "text/plain": [
       "   timestamp_UNIX       CH1       CH2  trial  participant\n",
       "0    1.677476e+12  1.840104  3.233574      1            2\n",
       "1    1.677476e+12  1.839839  3.233450      1            2\n",
       "2    1.677476e+12  1.839578  3.233326      1            2\n",
       "3    1.677476e+12  1.839319  3.233202      1            2\n",
       "4    1.677476e+12  1.839063  3.233078      1            2"
      ]
     },
     "execution_count": 5,
     "metadata": {},
     "output_type": "execute_result"
    }
   ],
   "source": [
    "df.head()"
   ]
  },
  {
   "cell_type": "code",
   "execution_count": 6,
   "id": "3dfda2d2",
   "metadata": {},
   "outputs": [
    {
     "data": {
      "text/html": [
       "<div>\n",
       "<style scoped>\n",
       "    .dataframe tbody tr th:only-of-type {\n",
       "        vertical-align: middle;\n",
       "    }\n",
       "\n",
       "    .dataframe tbody tr th {\n",
       "        vertical-align: top;\n",
       "    }\n",
       "\n",
       "    .dataframe thead th {\n",
       "        text-align: right;\n",
       "    }\n",
       "</style>\n",
       "<table border=\"1\" class=\"dataframe\">\n",
       "  <thead>\n",
       "    <tr style=\"text-align: right;\">\n",
       "      <th></th>\n",
       "      <th>timestamp_UNIX</th>\n",
       "      <th>CH1</th>\n",
       "      <th>CH2</th>\n",
       "      <th>trial</th>\n",
       "      <th>participant</th>\n",
       "    </tr>\n",
       "  </thead>\n",
       "  <tbody>\n",
       "    <tr>\n",
       "      <th>770229</th>\n",
       "      <td>1.677478e+12</td>\n",
       "      <td>-0.007724</td>\n",
       "      <td>-0.008098</td>\n",
       "      <td>33</td>\n",
       "      <td>4</td>\n",
       "    </tr>\n",
       "    <tr>\n",
       "      <th>770230</th>\n",
       "      <td>1.677478e+12</td>\n",
       "      <td>-0.011382</td>\n",
       "      <td>-0.012895</td>\n",
       "      <td>33</td>\n",
       "      <td>4</td>\n",
       "    </tr>\n",
       "    <tr>\n",
       "      <th>770231</th>\n",
       "      <td>1.677478e+12</td>\n",
       "      <td>-0.015068</td>\n",
       "      <td>-0.017727</td>\n",
       "      <td>33</td>\n",
       "      <td>4</td>\n",
       "    </tr>\n",
       "    <tr>\n",
       "      <th>770232</th>\n",
       "      <td>1.677478e+12</td>\n",
       "      <td>-0.018780</td>\n",
       "      <td>-0.022594</td>\n",
       "      <td>33</td>\n",
       "      <td>4</td>\n",
       "    </tr>\n",
       "    <tr>\n",
       "      <th>770233</th>\n",
       "      <td>1.677478e+12</td>\n",
       "      <td>-0.022519</td>\n",
       "      <td>-0.027497</td>\n",
       "      <td>33</td>\n",
       "      <td>4</td>\n",
       "    </tr>\n",
       "  </tbody>\n",
       "</table>\n",
       "</div>"
      ],
      "text/plain": [
       "        timestamp_UNIX       CH1       CH2  trial  participant\n",
       "770229    1.677478e+12 -0.007724 -0.008098     33            4\n",
       "770230    1.677478e+12 -0.011382 -0.012895     33            4\n",
       "770231    1.677478e+12 -0.015068 -0.017727     33            4\n",
       "770232    1.677478e+12 -0.018780 -0.022594     33            4\n",
       "770233    1.677478e+12 -0.022519 -0.027497     33            4"
      ]
     },
     "execution_count": 6,
     "metadata": {},
     "output_type": "execute_result"
    }
   ],
   "source": [
    "df.tail()"
   ]
  },
  {
   "cell_type": "code",
   "execution_count": 7,
   "id": "f5b29fa6",
   "metadata": {},
   "outputs": [
    {
     "data": {
      "image/png": "[encoded data removed]",
      "text/plain": [
       "<Figure size 432x288 with 2 Axes>"
      ]
     },
     "metadata": {
      "needs_background": "light"
     },
     "output_type": "display_data"
    },
    {
     "data": {
      "image/png": "[encoded data removed]",
      "text/plain": [
       "<Figure size 432x288 with 2 Axes>"
      ]
     },
     "metadata": {
      "needs_background": "light"
     },
     "output_type": "display_data"
    },
    {
     "data": {
      "image/png": "[encoded data removed]",
      "text/plain": [
       "<Figure size 432x288 with 2 Axes>"
      ]
     },
     "metadata": {
      "needs_background": "light"
     },
     "output_type": "display_data"
    },
    {
     "data": {
      "image/png": "[encoded data removed]",
      "text/plain": [
       "<Figure size 432x288 with 2 Axes>"
      ]
     },
     "metadata": {
      "needs_background": "light"
     },
     "output_type": "display_data"
    }
   ],
   "source": [
    "for file in emg_files:\n",
    "    filepath = os.path.join(emg_path, file)\n",
    "    df       = pd.read_csv(filepath)\n",
    "\n",
    "    fig, ax = plt.subplots(2,1)\n",
    "    ax[0].plot(df.timestamp_UNIX, df.CH1)\n",
    "    ax[1].plot(df.timestamp_UNIX, df.CH2)\n",
    "    plt.suptitle(file[:6])"
   ]
  },
  {
   "cell_type": "markdown",
   "id": "d6c119d3",
   "metadata": {},
   "source": [
    "## Normalize based on calibration\n",
    "\n",
    "Average the maximal smile value and then divide each value by it. Then the measure should be mapped to speed."
   ]
  },
  {
   "cell_type": "code",
   "execution_count": 8,
   "id": "4462a44d",
   "metadata": {},
   "outputs": [
    {
     "data": {
      "text/plain": [
       "[<matplotlib.lines.Line2D at 0x214a6455580>]"
      ]
     },
     "execution_count": 8,
     "metadata": {},
     "output_type": "execute_result"
    },
    {
     "data": {
      "image/png": "[encoded data removed]",
      "text/plain": [
       "<Figure size 432x288 with 1 Axes>"
      ]
     },
     "metadata": {
      "needs_background": "light"
     },
     "output_type": "display_data"
    }
   ],
   "source": [
    "plt.plot(df.trial)"
   ]
  },
  {
   "cell_type": "code",
   "execution_count": 11,
   "id": "00f7d6b1",
   "metadata": {},
   "outputs": [
    {
     "data": {
      "text/plain": [
       "729273    1.738564\n",
       "729274    1.748244\n",
       "729275    1.757900\n",
       "729276    1.767532\n",
       "729277    1.777141\n",
       "            ...   \n",
       "770229   -0.007724\n",
       "770230   -0.011382\n",
       "770231   -0.015068\n",
       "770232   -0.018780\n",
       "770233   -0.022519\n",
       "Name: CH1, Length: 40961, dtype: float64"
      ]
     },
     "execution_count": 11,
     "metadata": {},
     "output_type": "execute_result"
    }
   ],
   "source": [
    "trial_calibration = 33\n",
    "\n",
    "\n",
    "df.CH1[df.trial == trial_calibration]\n"
   ]
  },
  {
   "cell_type": "code",
   "execution_count": 12,
   "id": "b7838d30",
   "metadata": {
    "scrolled": true
   },
   "outputs": [
    {
     "data": {
      "text/plain": [
       "[<matplotlib.lines.Line2D at 0x214a9b3b400>]"
      ]
     },
     "execution_count": 12,
     "metadata": {},
     "output_type": "execute_result"
    },
    {
     "data": {
      "image/png": "[encoded data removed]",
      "text/plain": [
       "<Figure size 432x288 with 1 Axes>"
      ]
     },
     "metadata": {
      "needs_background": "light"
     },
     "output_type": "display_data"
    }
   ],
   "source": [
    "plt.plot(df.CH1[df.trial == trial_calibration])"
   ]
  },
  {
   "cell_type": "code",
   "execution_count": 13,
   "id": "436a47a2",
   "metadata": {},
   "outputs": [],
   "source": [
    "df['label'] = 0"
   ]
  },
  {
   "cell_type": "code",
   "execution_count": 14,
   "id": "03d64b72",
   "metadata": {},
   "outputs": [
    {
     "data": {
      "text/html": [
       "<div>\n",
       "<style scoped>\n",
       "    .dataframe tbody tr th:only-of-type {\n",
       "        vertical-align: middle;\n",
       "    }\n",
       "\n",
       "    .dataframe tbody tr th {\n",
       "        vertical-align: top;\n",
       "    }\n",
       "\n",
       "    .dataframe thead th {\n",
       "        text-align: right;\n",
       "    }\n",
       "</style>\n",
       "<table border=\"1\" class=\"dataframe\">\n",
       "  <thead>\n",
       "    <tr style=\"text-align: right;\">\n",
       "      <th></th>\n",
       "      <th>timestamp_UNIX</th>\n",
       "      <th>CH1</th>\n",
       "      <th>CH2</th>\n",
       "      <th>trial</th>\n",
       "      <th>label</th>\n",
       "    </tr>\n",
       "  </thead>\n",
       "  <tbody>\n",
       "    <tr>\n",
       "      <th>770229</th>\n",
       "      <td>1.677478e+12</td>\n",
       "      <td>-0.007724</td>\n",
       "      <td>-0.008098</td>\n",
       "      <td>33</td>\n",
       "      <td>0</td>\n",
       "    </tr>\n",
       "    <tr>\n",
       "      <th>770230</th>\n",
       "      <td>1.677478e+12</td>\n",
       "      <td>-0.011382</td>\n",
       "      <td>-0.012895</td>\n",
       "      <td>33</td>\n",
       "      <td>0</td>\n",
       "    </tr>\n",
       "    <tr>\n",
       "      <th>770231</th>\n",
       "      <td>1.677478e+12</td>\n",
       "      <td>-0.015068</td>\n",
       "      <td>-0.017727</td>\n",
       "      <td>33</td>\n",
       "      <td>0</td>\n",
       "    </tr>\n",
       "    <tr>\n",
       "      <th>770232</th>\n",
       "      <td>1.677478e+12</td>\n",
       "      <td>-0.018780</td>\n",
       "      <td>-0.022594</td>\n",
       "      <td>33</td>\n",
       "      <td>0</td>\n",
       "    </tr>\n",
       "    <tr>\n",
       "      <th>770233</th>\n",
       "      <td>1.677478e+12</td>\n",
       "      <td>-0.022519</td>\n",
       "      <td>-0.027497</td>\n",
       "      <td>33</td>\n",
       "      <td>0</td>\n",
       "    </tr>\n",
       "  </tbody>\n",
       "</table>\n",
       "</div>"
      ],
      "text/plain": [
       "        timestamp_UNIX       CH1       CH2  trial  label\n",
       "770229    1.677478e+12 -0.007724 -0.008098     33      0\n",
       "770230    1.677478e+12 -0.011382 -0.012895     33      0\n",
       "770231    1.677478e+12 -0.015068 -0.017727     33      0\n",
       "770232    1.677478e+12 -0.018780 -0.022594     33      0\n",
       "770233    1.677478e+12 -0.022519 -0.027497     33      0"
      ]
     },
     "execution_count": 14,
     "metadata": {},
     "output_type": "execute_result"
    }
   ],
   "source": [
    "df.tail()"
   ]
  },
  {
   "cell_type": "code",
   "execution_count": 37,
   "id": "5237799a",
   "metadata": {},
   "outputs": [
    {
     "data": {
      "text/plain": [
       "0         False\n",
       "1         False\n",
       "2         False\n",
       "3         False\n",
       "4         False\n",
       "          ...  \n",
       "770229     True\n",
       "770230     True\n",
       "770231     True\n",
       "770232     True\n",
       "770233     True\n",
       "Name: trial, Length: 770234, dtype: bool"
      ]
     },
     "execution_count": 37,
     "metadata": {},
     "output_type": "execute_result"
    }
   ],
   "source": [
    "df.trial == trial_calibration"
   ]
  },
  {
   "cell_type": "code",
   "execution_count": 38,
   "id": "7f5dd90f",
   "metadata": {},
   "outputs": [
    {
     "data": {
      "text/plain": [
       "[<matplotlib.lines.Line2D at 0x214ab64f490>]"
      ]
     },
     "execution_count": 38,
     "metadata": {},
     "output_type": "execute_result"
    },
    {
     "data": {
      "image/png": "[encoded data removed]",
      "text/plain": [
       "<Figure size 432x288 with 1 Axes>"
      ]
     },
     "metadata": {
      "needs_background": "light"
     },
     "output_type": "display_data"
    }
   ],
   "source": [
    "start_calibration = np.diff(df.trial == trial_calibration, n=1)\n",
    "plt.plot(start_calibration)"
   ]
  },
  {
   "cell_type": "code",
   "execution_count": 39,
   "id": "ae6871c3",
   "metadata": {},
   "outputs": [],
   "source": [
    "start_calibration = np.argwhere(start_calibration)[0][0]"
   ]
  },
  {
   "cell_type": "code",
   "execution_count": 40,
   "id": "cc775f3b",
   "metadata": {},
   "outputs": [
    {
     "data": {
      "text/plain": [
       "729272"
      ]
     },
     "execution_count": 40,
     "metadata": {},
     "output_type": "execute_result"
    }
   ],
   "source": [
    "start_calibration"
   ]
  },
  {
   "cell_type": "code",
   "execution_count": 43,
   "id": "2599870d",
   "metadata": {},
   "outputs": [
    {
     "name": "stderr",
     "output_type": "stream",
     "text": [
      "C:\\Users\\shigetou\\AppData\\Local\\Temp/ipykernel_6936/1401567863.py:3: SettingWithCopyWarning: \n",
      "A value is trying to be set on a copy of a slice from a DataFrame\n",
      "\n",
      "See the caveats in the documentation: https://pandas.pydata.org/pandas-docs/stable/user_guide/indexing.html#returning-a-view-versus-a-copy\n",
      "  df.label[start_calibration:start_calibration + fs * duration] = 99\n"
     ]
    }
   ],
   "source": [
    "fs = 512\n",
    "duration = 5 # seconds\n",
    "df.label[start_calibration:start_calibration + fs * duration] = 99"
   ]
  },
  {
   "cell_type": "code",
   "execution_count": 46,
   "id": "072e3922",
   "metadata": {},
   "outputs": [
    {
     "data": {
      "text/plain": [
       "[<matplotlib.lines.Line2D at 0x214ab7b99a0>]"
      ]
     },
     "execution_count": 46,
     "metadata": {},
     "output_type": "execute_result"
    },
    {
     "data": {
      "image/png": "[encoded data removed]",
      "text/plain": [
       "<Figure size 432x288 with 1 Axes>"
      ]
     },
     "metadata": {
      "needs_background": "light"
     },
     "output_type": "display_data"
    }
   ],
   "source": [
    "trial_calibration = 33\n",
    "\n",
    "df.label[df.trial == trial_calibration] \n",
    "\n",
    "#512Hz, 5s = 512*5\n",
    "\n",
    "s = 0\n",
    "dfs = []\n",
    "for a in (df.CH1[df.trial == trial_calibration]):\n",
    "    s += 1\n",
    "    dfs.append(a)\n",
    "    if(s == 512*5):\n",
    "        break\n",
    "        \n",
    "plt.plot(dfs)\n",
    "plt.plot(df.CH1[start_calibration:start_calibration + fs * duration].values)"
   ]
  },
  {
   "cell_type": "code",
   "execution_count": null,
   "id": "48098a44",
   "metadata": {},
   "outputs": [],
   "source": [
    "trial_calibration = 15\n",
    "for file in emg_files:\n",
    "\n",
    "\n",
    "    trial_2_plot = 32\n",
    "    \n",
    "    fig, ax = plt.subplots(2,1)\n",
    "    ax[0].plot(df.timestamp_UNIX[df.trial == trial_2_plot], df.CH1[df.trial == trial_2_plot])\n",
    "    ax[1].plot(df.timestamp_UNIX[df.trial == trial_2_plot], df.CH2[df.trial == trial_2_plot])\n",
    "    plt.suptitle(file[:6])"
   ]
  },
  {
   "cell_type": "code",
   "execution_count": null,
   "id": "572b59f8",
   "metadata": {},
   "outputs": [],
   "source": []
  },
  {
   "cell_type": "markdown",
   "id": "e15b8e17",
   "metadata": {},
   "source": [
    "## Mapping to speed\n",
    "Map the percentage of the maximum voluntary contraction (RMS in the calibration) done in every sample of the EMG"
   ]
  },
  {
   "cell_type": "code",
   "execution_count": 48,
   "id": "2489cc62",
   "metadata": {},
   "outputs": [],
   "source": [
    "calibrationData = df.CH1[start_calibration:start_calibration + fs * duration].values"
   ]
  },
  {
   "cell_type": "code",
   "execution_count": 49,
   "id": "4d30615a",
   "metadata": {},
   "outputs": [
    {
     "data": {
      "text/plain": [
       "2.6424250099438926"
      ]
     },
     "execution_count": 49,
     "metadata": {},
     "output_type": "execute_result"
    }
   ],
   "source": [
    "calibrationData.max()"
   ]
  },
  {
   "cell_type": "code",
   "execution_count": 56,
   "id": "82beb5dc",
   "metadata": {},
   "outputs": [],
   "source": [
    "CH1_normalized = df.CH1 / calibrationData.max()"
   ]
  },
  {
   "cell_type": "code",
   "execution_count": 57,
   "id": "7ab45587",
   "metadata": {},
   "outputs": [
    {
     "data": {
      "text/plain": [
       "[<matplotlib.lines.Line2D at 0x214ab97a220>]"
      ]
     },
     "execution_count": 57,
     "metadata": {},
     "output_type": "execute_result"
    },
    {
     "data": {
      "image/png": "[encoded data removed]",
      "text/plain": [
       "<Figure size 432x288 with 1 Axes>"
      ]
     },
     "metadata": {
      "needs_background": "light"
     },
     "output_type": "display_data"
    }
   ],
   "source": [
    "plt.plot(CH1_normalized)"
   ]
  },
  {
   "cell_type": "code",
   "execution_count": 60,
   "id": "3da0c17e",
   "metadata": {},
   "outputs": [],
   "source": [
    "CH1_normalized[CH1_normalized >= 0.5] = 0.5"
   ]
  },
  {
   "cell_type": "code",
   "execution_count": 61,
   "id": "2b82a98d",
   "metadata": {},
   "outputs": [
    {
     "data": {
      "text/plain": [
       "[<matplotlib.lines.Line2D at 0x214a63cfee0>]"
      ]
     },
     "execution_count": 61,
     "metadata": {},
     "output_type": "execute_result"
    },
    {
     "data": {
      "image/png": "[encoded data removed]",
      "text/plain": [
       "<Figure size 432x288 with 1 Axes>"
      ]
     },
     "metadata": {
      "needs_background": "light"
     },
     "output_type": "display_data"
    }
   ],
   "source": [
    "plt.plot(CH1_normalized)"
   ]
  },
  {
   "cell_type": "code",
   "execution_count": null,
   "id": "5db79802",
   "metadata": {},
   "outputs": [],
   "source": []
  }
 ],
 "metadata": {
  "kernelspec": {
   "display_name": "Python 3 (ipykernel)",
   "language": "python",
   "name": "python3"
  },
  "language_info": {
   "codemirror_mode": {
    "name": "ipython",
    "version": 3
   },
   "file_extension": ".py",
   "mimetype": "text/x-python",
   "name": "python",
   "nbconvert_exporter": "python",
   "pygments_lexer": "ipython3",
   "version": "3.9.7"
  }
 },
 "nbformat": 4,
 "nbformat_minor": 5
}
