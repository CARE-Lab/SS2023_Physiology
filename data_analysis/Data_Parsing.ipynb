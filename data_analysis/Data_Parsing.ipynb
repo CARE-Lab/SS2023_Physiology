{
 "cells": [
  {
   "cell_type": "code",
   "execution_count": 1,
   "id": "3e10ae57",
   "metadata": {},
   "outputs": [],
   "source": [
    "import glob\n",
    "import pandas as pd\n",
    "import datetime"
   ]
  },
  {
   "cell_type": "code",
   "execution_count": 2,
   "id": "8ee3967d",
   "metadata": {},
   "outputs": [],
   "source": [
    "dir_name = glob.glob('data/Experiment/groove-GSR/*_clean.log')\n",
    "GSR_path = []\n",
    "\n",
    "for name in dir_name:\n",
    "    GSR_path.append(name)\n",
    "    with open(name) as f:\n",
    "        records = f.readlines()\n",
    "        \n",
    "        start_point = 1\n",
    "        values = records[start_point].split(' ')\n",
    "        timestamp_pre = values[0] + ' ' + values[1]\n",
    "        \n",
    "        for record in records[1:]:\n",
    "            values = record.split(' ')\n",
    "#             print(values)\n",
    "            timestamp_cur = values[0] + ' ' + values[1]\n",
    "            if timestamp_pre == timestamp_cur:\n",
    "                start_point += 1\n",
    "        \n",
    "        timestamps_UNIX = []\n",
    "        datetimes = []\n",
    "        GSR1 = []\n",
    "        GSR2 = []\n",
    "        relative_time = []\n",
    "        trigger_value = []\n",
    "        \n",
    "        for record in records[start_point:]:\n",
    "            values = record.split(', ')\n",
    "            strs = values[0].split(' ')\n",
    "            time = (strs[0] + ' ' + strs[1])[1:-1]\n",
    "            datetimes.append(time)\n",
    "            timestamps_UNIX.append(datetime.datetime.timestamp(datetime.datetime.strptime(time, '%Y-%m-%d %H:%M:%S.%f')))\n",
    "            GSR1.append(strs[2])\n",
    "            GSR2.append(values[1])\n",
    "            relative_time.append(values[2])\n",
    "            trigger_value.append(values[3].split('\\n')[0])\n",
    "\n",
    "    f.close()\n",
    "    \n",
    "    df = pd.DataFrame({'timestamp_UNIX': timestamps_UNIX, 'datetime_str': datetimes, 'GSR1': GSR1, 'GSR2': GSR2, 'relative_time': relative_time, 'trigger_value': trigger_value})\n",
    "    df.to_csv(name.split('.')[0] + '.csv', sep=',')"
   ]
  },
  {
   "cell_type": "code",
   "execution_count": null,
   "id": "d481a514",
   "metadata": {},
   "outputs": [],
   "source": []
  }
 ],
 "metadata": {
  "kernelspec": {
   "display_name": "Python 3",
   "language": "python",
   "name": "python3"
  },
  "language_info": {
   "codemirror_mode": {
    "name": "ipython",
    "version": 3
   },
   "file_extension": ".py",
   "mimetype": "text/x-python",
   "name": "python",
   "nbconvert_exporter": "python",
   "pygments_lexer": "ipython3",
   "version": "3.8.5"
  }
 },
 "nbformat": 4,
 "nbformat_minor": 5
}
