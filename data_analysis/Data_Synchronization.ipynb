{
 "cells": [
  {
   "cell_type": "code",
   "execution_count": 1,
   "id": "8678a9c5",
   "metadata": {},
   "outputs": [],
   "source": [
    "import numpy as np\n",
    "import pandas as pd\n",
    "import os\n",
    "from matplotlib   import pylab as plt"
   ]
  },
  {
   "cell_type": "code",
   "execution_count": 2,
   "id": "fd1b9e8c",
   "metadata": {},
   "outputs": [],
   "source": [
    "# detection the change\n",
    "def trigger_detection(data, threshold, start=0, end=-1):\n",
    "    flag = False\n",
    "    intervals = []\n",
    "    if end < start:\n",
    "        end = data.shape[0]\n",
    "\n",
    "    for i in np.arange(start, end):\n",
    "        if (data[i] < threshold):\n",
    "            if flag == False:\n",
    "                flag = True\n",
    "                s = i\n",
    "            else:\n",
    "                if data[i+1] > threshold:\n",
    "                    e = i\n",
    "                    intervals.append((s, e))\n",
    "                    flag = False\n",
    "\n",
    "    return np.array(intervals)[:, 0]"
   ]
  },
  {
   "cell_type": "code",
   "execution_count": 3,
   "id": "a474d482",
   "metadata": {},
   "outputs": [],
   "source": [
    "# paths were the raw data is\n",
    "root_path = 'data/'\n",
    "data_path = os.path.join(root_path, 'Experiment')\n",
    "shimmer_path = os.path.join(data_path, 'shimmer')\n",
    "arduino_path = os.path.join(data_path, 'groove-GSR')\n",
    "\n",
    "# list all files (ignoring the hidden macos file)\n",
    "shimmer_files = [x for x in os.listdir(shimmer_path) if x.endswith('.csv')]\n",
    "gsr_files = [x for x in os.listdir(arduino_path) if x.endswith('.csv')]"
   ]
  },
  {
   "cell_type": "code",
   "execution_count": 4,
   "id": "512f0b82",
   "metadata": {},
   "outputs": [
    {
     "data": {
      "text/plain": [
       "['04_EDA_SS2023_Exp1_Session1_Shimmer_D210_Calibrated_SD.csv',\n",
       " '02_EMG_SS2023_Exp1_Session1_Shimmer_F16C_Calibrated_SD.csv',\n",
       " '04_EMG_SS2023_Exp1_Session1_Shimmer_EC93_Calibrated_SD.csv',\n",
       " 'Trigger_SS2023_Exp1_Session1_Shimmer_895A_Calibrated_SD.csv',\n",
       " '03_EDA_SS2023_Exp1_Session1_Shimmer_86D4_Calibrated_SD.csv',\n",
       " '03_EMG_SS2023_Exp1_Session1_Shimmer_EC8E_Calibrated_SD.csv',\n",
       " '01_EMG_SS2023_Exp1_Session1_Shimmer_F0BA_Calibrated_SD.csv']"
      ]
     },
     "execution_count": 4,
     "metadata": {},
     "output_type": "execute_result"
    }
   ],
   "source": [
    "shimmer_files"
   ]
  },
  {
   "cell_type": "code",
   "execution_count": 5,
   "id": "6ad483bf",
   "metadata": {},
   "outputs": [],
   "source": [
    "# paths\n",
    "eda_indexes = [0, 4]\n",
    "trigger_index = 3\n",
    "\n",
    "trigger_path = shimmer_files[trigger_index]\n",
    "eda_path = [x for i,x in enumerate(shimmer_files) if i in eda_indexes]\n",
    "emg_path = [x for i,x in enumerate(shimmer_files) if i not in eda_indexes and i != trigger_index] \n",
    "\n",
    "# paths were the preprocessed data should be\n",
    "out_path = os.path.join(root_path, 'Segmented')\n",
    "emg_out_path = os.path.join(out_path, 'EMG')\n",
    "eda_out_path = os.path.join(out_path, 'EDA')\n",
    "\n",
    "# check if the output folders exist and create them if necessary\n",
    "for folder in [out_path, emg_out_path, eda_out_path]:\n",
    "    if not os.path.exists(folder):\n",
    "        os.mkdir(folder)"
   ]
  },
  {
   "cell_type": "code",
   "execution_count": 6,
   "id": "637f13c7",
   "metadata": {},
   "outputs": [],
   "source": [
    "# trigger loading and detection\n",
    "df = pd.read_csv(os.path.join(shimmer_path, trigger_path), skiprows=[0,2])\n",
    "columns = df.columns\n",
    "\n",
    "timestamps = np.array(df[columns[0]])\n",
    "trigger_values = np.array(df[columns[1]])\n",
    "\n",
    "trigger_pos = trigger_detection(trigger_values, 500)\n",
    "trigger_timestamps = timestamps[trigger_pos]"
   ]
  },
  {
   "cell_type": "code",
   "execution_count": 7,
   "id": "cf4ad218",
   "metadata": {},
   "outputs": [
    {
     "data": {
      "text/plain": [
       "66"
      ]
     },
     "execution_count": 7,
     "metadata": {},
     "output_type": "execute_result"
    }
   ],
   "source": [
    "# 66 triggers:\n",
    "#     1 -> experiment start\n",
    "#     2-65 -> the begin and the end of 32 videos\n",
    "#     66 -> calibration start\n",
    "len(trigger_pos)"
   ]
  },
  {
   "cell_type": "code",
   "execution_count": 8,
   "id": "248ca78a",
   "metadata": {},
   "outputs": [
    {
     "data": {
      "text/plain": [
       "array([ 946591,  947250,  949401,  970833,  974623,  985501,  987210,\n",
       "        998350, 1000847, 1008824, 1024325, 1037263, 1039137, 1047077,\n",
       "       1052195, 1061357, 1066994, 1075645, 1079882, 1089276, 1092104,\n",
       "       1101190, 1154264, 1164473, 1167585, 1174816, 1178193, 1185304,\n",
       "       1194009, 1205470, 1341360, 1352671, 1513837, 1524669, 1531359,\n",
       "       1540375, 1547239, 1555845, 1572321, 1582716, 1584691, 1592799,\n",
       "       1678098, 1686885, 1689818, 1698142, 1700042, 1706801, 1712347,\n",
       "       1747927, 1758331, 1769019, 1915726, 1925856, 1927562, 1935421,\n",
       "       1937912, 1946157, 1948390, 1956642, 1958177, 1967119, 1973028,\n",
       "       2000803, 2021462, 2038400])"
      ]
     },
     "execution_count": 8,
     "metadata": {},
     "output_type": "execute_result"
    }
   ],
   "source": [
    "trigger_pos"
   ]
  },
  {
   "cell_type": "code",
   "execution_count": 9,
   "id": "7a42278b",
   "metadata": {},
   "outputs": [
    {
     "data": {
      "text/plain": [
       "array([1.67747614e+12, 1.67747614e+12, 1.67747614e+12, 1.67747618e+12,\n",
       "       1.67747619e+12, 1.67747621e+12, 1.67747622e+12, 1.67747624e+12,\n",
       "       1.67747624e+12, 1.67747626e+12, 1.67747629e+12, 1.67747631e+12,\n",
       "       1.67747632e+12, 1.67747633e+12, 1.67747634e+12, 1.67747636e+12,\n",
       "       1.67747637e+12, 1.67747639e+12, 1.67747640e+12, 1.67747641e+12,\n",
       "       1.67747642e+12, 1.67747644e+12, 1.67747654e+12, 1.67747656e+12,\n",
       "       1.67747657e+12, 1.67747658e+12, 1.67747659e+12, 1.67747660e+12,\n",
       "       1.67747662e+12, 1.67747664e+12, 1.67747691e+12, 1.67747693e+12,\n",
       "       1.67747724e+12, 1.67747727e+12, 1.67747728e+12, 1.67747730e+12,\n",
       "       1.67747731e+12, 1.67747733e+12, 1.67747736e+12, 1.67747738e+12,\n",
       "       1.67747738e+12, 1.67747740e+12, 1.67747757e+12, 1.67747758e+12,\n",
       "       1.67747759e+12, 1.67747760e+12, 1.67747761e+12, 1.67747762e+12,\n",
       "       1.67747763e+12, 1.67747770e+12, 1.67747772e+12, 1.67747774e+12,\n",
       "       1.67747803e+12, 1.67747805e+12, 1.67747805e+12, 1.67747807e+12,\n",
       "       1.67747807e+12, 1.67747809e+12, 1.67747809e+12, 1.67747811e+12,\n",
       "       1.67747811e+12, 1.67747813e+12, 1.67747814e+12, 1.67747820e+12,\n",
       "       1.67747824e+12, 1.67747827e+12])"
      ]
     },
     "execution_count": 9,
     "metadata": {},
     "output_type": "execute_result"
    }
   ],
   "source": [
    "trigger_timestamps"
   ]
  },
  {
   "cell_type": "markdown",
   "id": "edcc9cd4",
   "metadata": {},
   "source": [
    "## Visualize raw data"
   ]
  },
  {
   "cell_type": "code",
   "execution_count": 10,
   "id": "f539d640",
   "metadata": {},
   "outputs": [
    {
     "name": "stdout",
     "output_type": "stream",
     "text": [
      "Lmax: 201.66666666666663, [533213], Rmax: 201.66666666666663, [544261]\n",
      "Lmin: -201.6666907072096, [2099548], Rmin: -34.04292333637754, [2101294]\n"
     ]
    },
    {
     "data": {
      "image/png": "[encoded data removed]",
      "text/plain": [
       "<Figure size 432x288 with 1 Axes>"
      ]
     },
     "metadata": {
      "needs_background": "light"
     },
     "output_type": "display_data"
    },
    {
     "name": "stdout",
     "output_type": "stream",
     "text": [
      "Lmax: 115.87241183190488, [465139], Rmax: 65.1713395322966, [2114136]\n",
      "Lmin: -201.6666907072096, [2112339], Rmin: -201.6666907072096, [476886]\n"
     ]
    },
    {
     "data": {
      "image/png": "[encoded data removed]",
      "text/plain": [
       "<Figure size 432x288 with 1 Axes>"
      ]
     },
     "metadata": {
      "needs_background": "light"
     },
     "output_type": "display_data"
    },
    {
     "name": "stdout",
     "output_type": "stream",
     "text": [
      "Lmax: 201.66666666666663, [505246], Rmax: 59.26974685228827, [2109555]\n",
      "Lmin: -201.6666907072096, [2107782], Rmin: -52.65482318260151, [2109491]\n"
     ]
    },
    {
     "data": {
      "image/png": "[encoded data removed]",
      "text/plain": [
       "<Figure size 432x288 with 1 Axes>"
      ]
     },
     "metadata": {
      "needs_background": "light"
     },
     "output_type": "display_data"
    },
    {
     "name": "stdout",
     "output_type": "stream",
     "text": [
      "Lmax: 64.8771073274343, [348318], Rmax: 81.9089184493524, [2097702]\n",
      "Lmin: -201.6666907072096, [2095975], Rmin: -201.6666907072096, [582259]\n"
     ]
    },
    {
     "data": {
      "image/png": "[encoded data removed]",
      "text/plain": [
       "<Figure size 432x288 with 1 Axes>"
      ]
     },
     "metadata": {
      "needs_background": "light"
     },
     "output_type": "display_data"
    }
   ],
   "source": [
    "for emg in emg_path:\n",
    "    file_name = os.path.join(shimmer_path, emg)\n",
    "    out_path = os.path.join(emg_out_path, emg)\n",
    "    \n",
    "    df = pd.read_csv(file_name, skiprows=[0, 2])\n",
    "\n",
    "    print(f\"Lmax: {df.values[:,2].max()}, [{df.values[:,2].argmax()}], Rmax: {df.values[:,3].max()}, [{df.values[:,3].argmax()}]\")\n",
    "    print(f\"Lmin: {df.values[:,2].min()}, [{df.values[:,2].argmin()}], Rmin: {df.values[:,3].min()}, [{df.values[:,3].argmin()}]\")\n",
    "\n",
    "    plt.plot(df.values[:,2], label='CH1')\n",
    "    plt.plot(df.values[:,3], label='CH2')\n",
    "    plt.plot(trigger_pos, np.ones(len(trigger_pos)), 'ro', label='Trigger')\n",
    "    plt.legend()\n",
    "    plt.show()"
   ]
  },
  {
   "cell_type": "code",
   "execution_count": 11,
   "id": "751aae39",
   "metadata": {},
   "outputs": [
    {
     "data": {
      "text/plain": [
       "'02_EMG_SS2023_Exp1_Session1_Shimmer_F16C_Calibrated_SD.csv'"
      ]
     },
     "execution_count": 11,
     "metadata": {},
     "output_type": "execute_result"
    }
   ],
   "source": [
    "emg_path[0]"
   ]
  },
  {
   "cell_type": "code",
   "execution_count": 12,
   "id": "d63e6776",
   "metadata": {},
   "outputs": [],
   "source": [
    "# segmenting the EMG data\n",
    "for emg in emg_path:\n",
    "    file_name = os.path.join(shimmer_path, emg)\n",
    "    out_path = os.path.join(emg_out_path, emg)\n",
    "    \n",
    "    df = pd.read_csv(file_name, skiprows=[0, 2])\n",
    "    columns = df.columns\n",
    "    \n",
    "    timestamps = np.array(df[columns[0]])\n",
    "    emg_ch1 = np.array(df[columns[2]])\n",
    "    emg_ch2 = np.array(df[columns[3]])\n",
    "    \n",
    "    out_timestamps = []\n",
    "    out_ch1 = []\n",
    "    out_ch2 = []\n",
    "    out_labels = []\n",
    "    \n",
    "    start_flag = False\n",
    "    for i, time in enumerate(trigger_timestamps[1:-1]): \n",
    "        if not start_flag:\n",
    "            start_pos = np.argwhere(timestamps >= time)[0, 0]\n",
    "            end_pos = np.argwhere(timestamps >= trigger_timestamps[i+2])[0, 0]\n",
    "\n",
    "            for pos in range(start_pos, end_pos+1):\n",
    "                out_timestamps.append(timestamps[pos])\n",
    "                out_ch1.append(emg_ch1[pos])\n",
    "                out_ch2.append(emg_ch2[pos])\n",
    "                out_labels.append(int(i / 2 + 1))\n",
    "            start_flag = True\n",
    "        else:\n",
    "            start_flag = False\n",
    "            \n",
    "    # Adding the last block of calibration\n",
    "    start_pos = trigger_pos[-1]\n",
    "    end_pos = trigger_pos[-1] + (512*80)\n",
    "    for pos in range(start_pos, end_pos+1):\n",
    "                out_timestamps.append(timestamps[pos])\n",
    "                out_ch1.append(emg_ch1[pos])\n",
    "                out_ch2.append(emg_ch2[pos])\n",
    "                out_labels.append(33)\n",
    "    \n",
    "    # Making the columns easy to read and the same in all files\n",
    "    columns = ['timestamp_UNIX',\n",
    "       'Status', 'CH1',\n",
    "       'CH2', 'Unnamed']\n",
    "    \n",
    "    df = pd.DataFrame({columns[0]: out_timestamps, columns[2]: out_ch1, columns[3]: out_ch2, 'trial': out_labels})\n",
    "    df.to_csv(out_path)"
   ]
  },
  {
   "cell_type": "code",
   "execution_count": 13,
   "id": "559169e4",
   "metadata": {},
   "outputs": [],
   "source": [
    "# segmenting the EDA data\n",
    "for eda in eda_path:\n",
    "    file_name = os.path.join(shimmer_path, eda)\n",
    "    out_path = os.path.join(eda_out_path, eda)\n",
    "    \n",
    "    df = pd.read_csv(file_name, skiprows=[0, 2])\n",
    "    columns = df.columns\n",
    "\n",
    "    timestamps = np.array(df[columns[0]])\n",
    "    skin_conductance = np.array(df[columns[2]])\n",
    "#     ppg_to_hr = np.array(df[columns[6]])\n",
    "    \n",
    "    out_timestamps = []\n",
    "    out_skin_conductance = []\n",
    "#     out_ppg_to_hr = []\n",
    "    out_labels = []\n",
    "    \n",
    "    start_flag = False\n",
    "    for i, time in enumerate(trigger_timestamps[1:-1]):\n",
    "        if not start_flag:\n",
    "            start_pos = np.argwhere(timestamps >= time)[0, 0]\n",
    "            end_pos = np.argwhere(timestamps >= trigger_timestamps[i+2])[0, 0]\n",
    "            for pos in range(start_pos, end_pos+1):\n",
    "                out_timestamps.append(timestamps[pos])\n",
    "                out_skin_conductance.append(skin_conductance[pos])\n",
    "        #             out_ppg_to_hr.append(ppg_to_hr[pos])\n",
    "                out_labels.append(int(i / 2 + 1))\n",
    "\n",
    "            start_flag = True\n",
    "        else:\n",
    "            start_flag = False\n",
    "    \n",
    "    \n",
    "    # Making the columns easy to read and the same in all files\n",
    "    columns = ['timestamp_UNIX',\n",
    "       'Range', 'Conductance',\n",
    "       'Resistance', 'PPG', 'Unnamed']\n",
    "    \n",
    "    df = pd.DataFrame({columns[0]: out_timestamps, columns[2]: out_skin_conductance,\n",
    "                       'trial': out_labels})\n",
    "    df.to_csv(out_path)"
   ]
  },
  {
   "cell_type": "code",
   "execution_count": 14,
   "id": "803986e0",
   "metadata": {},
   "outputs": [
    {
     "data": {
      "text/plain": [
       "['A0-01_A1-02_COM19_20230227_143419_clean.csv']"
      ]
     },
     "execution_count": 14,
     "metadata": {},
     "output_type": "execute_result"
    }
   ],
   "source": [
    "gsr_files"
   ]
  },
  {
   "cell_type": "code",
   "execution_count": 15,
   "id": "a0698200",
   "metadata": {},
   "outputs": [],
   "source": [
    "file_name = os.path.join(arduino_path, gsr_files[0])\n",
    "out_path_A0 = os.path.join(eda_out_path, '01-A0_COM19_20230227_143419.csv')\n",
    "out_path_A1 = os.path.join(eda_out_path, '02-A1_COM19_20230227_143419.csv')\n",
    "\n",
    "df = pd.read_csv(file_name)\n",
    "columns = df.columns"
   ]
  },
  {
   "cell_type": "code",
   "execution_count": 16,
   "id": "bac189e1",
   "metadata": {},
   "outputs": [],
   "source": [
    "# contains 67 triggers, the first trigger is generated by opening the serial port\n",
    "arduino_trigger_pos = trigger_detection(df['trigger_value'], 0.5)"
   ]
  },
  {
   "cell_type": "code",
   "execution_count": 17,
   "id": "b828a089",
   "metadata": {},
   "outputs": [],
   "source": [
    "# need to divide 1e3 when calculating the period\n",
    "arduino_relative_start = df['relative_time'][arduino_trigger_pos[1]]\n",
    "shimmer_start_timestamp = trigger_timestamps[0]"
   ]
  },
  {
   "cell_type": "code",
   "execution_count": 18,
   "id": "c541c4f4",
   "metadata": {},
   "outputs": [],
   "source": [
    "GSR_A0 = np.array(df[columns[3]])\n",
    "GSR_A1 = np.array(df[columns[4]])\n",
    "relative_time = np.array(df[columns[5]])\n",
    "timestamps = (relative_time - arduino_relative_start) / 1e3 + shimmer_start_timestamp\n",
    "\n",
    "out_timestamps = []\n",
    "out_GSR_A0 = []\n",
    "out_GSR_A1 = []\n",
    "out_labels = []\n",
    "\n",
    "start_flag = False\n",
    "for i, time in enumerate(trigger_timestamps[1:-1]):\n",
    "    if not start_flag:\n",
    "        start_pos = np.argwhere(timestamps >= time)[0, 0]\n",
    "        end_pos = np.argwhere(timestamps >= trigger_timestamps[i+2])[0, 0]\n",
    "        for pos in range(start_pos, end_pos+1):\n",
    "            out_timestamps.append(timestamps[pos])\n",
    "            out_GSR_A0.append(GSR_A0[pos])\n",
    "            out_GSR_A1.append(GSR_A1[pos])\n",
    "            out_labels.append(int(i / 2 + 1))\n",
    "\n",
    "        start_flag = True\n",
    "    else:\n",
    "        start_flag = False\n",
    "\n",
    "df_A0 = pd.DataFrame({'timestamp_UNIX': out_timestamps, 'Conductance': out_GSR_A0, 'trial': out_labels})\n",
    "df_A1 = pd.DataFrame({'timestamp_UNIX': out_timestamps, 'Conductance': out_GSR_A1, 'trial': out_labels})\n",
    "\n",
    "df_A0.to_csv(out_path_A0, sep=',')\n",
    "df_A1.to_csv(out_path_A1, sep=',')"
   ]
  },
  {
   "cell_type": "markdown",
   "id": "433ff64e",
   "metadata": {},
   "source": [
    "### Fourier"
   ]
  },
  {
   "cell_type": "code",
   "execution_count": 19,
   "id": "c42742a5",
   "metadata": {},
   "outputs": [],
   "source": [
    "import pywt\n",
    "import numpy as np\n",
    "import matplotlib.pyplot as plt\n",
    "from scipy.fft import fft, ifft\n",
    "from scipy.fft import rfft, irfft, rfftfreq"
   ]
  },
  {
   "cell_type": "code",
   "execution_count": 20,
   "id": "918b70c7",
   "metadata": {},
   "outputs": [
    {
     "data": {
      "text/plain": [
       "Text(0.5, 0, 'Frequency (Hz)')"
      ]
     },
     "execution_count": 20,
     "metadata": {},
     "output_type": "execute_result"
    },
    {
     "data": {
      "image/png": "[encoded data removed]",
      "text/plain": [
       "<Figure size 1200x480 with 2 Axes>"
      ]
     },
     "metadata": {
      "needs_background": "light"
     },
     "output_type": "display_data"
    }
   ],
   "source": [
    "# segmenting the EMG data\n",
    "\n",
    "file_name = os.path.join(shimmer_path, emg_path[0])\n",
    "\n",
    "df = pd.read_csv(file_name, skiprows=[0, 2])\n",
    "columns = df.columns\n",
    "\n",
    "timestamps = np.array(df[columns[0]])\n",
    "emg_ch1 = np.array(df[columns[2]])\n",
    "emg_ch2 = np.array(df[columns[3]])\n",
    "\n",
    "from matplotlib.pyplot import figure\n",
    "figure(figsize=(15, 6), dpi=80)\n",
    "\n",
    "# Number of samples in normalized_tone\n",
    "N_ch1 = emg_ch1.shape[0]\n",
    "N_ch2 = emg_ch2.shape[0]\n",
    "sample_rate = 512\n",
    "\n",
    "yf_ch1 = rfft(emg_ch1)\n",
    "xf_ch1 = rfftfreq(N_ch1, 1 / sample_rate)\n",
    "\n",
    "yf_ch2 = rfft(emg_ch2)\n",
    "xf_ch2 = rfftfreq(N_ch2, 1 / sample_rate)\n",
    "\n",
    "start_freq = 5\n",
    "start_pos_ch1 = np.argwhere(xf_ch1 > start_freq)[0, 0]\n",
    "start_pos_ch2 = np.argwhere(xf_ch2 > start_freq)[0, 0]\n",
    "plt.subplot(2, 1, 1)\n",
    "plt.plot(xf_ch1[start_pos_ch1:], np.abs(yf_ch1[start_pos_ch1:]))\n",
    "plt.ylabel('Power')\n",
    "plt.xlabel('Frequency (Hz)')\n",
    "\n",
    "plt.subplot(2, 1, 2)\n",
    "plt.plot(xf_ch2[start_pos_ch2:], np.abs(yf_ch2[start_pos_ch2:]))\n",
    "plt.ylabel('Power')\n",
    "plt.xlabel('Frequency (Hz)')"
   ]
  },
  {
   "cell_type": "code",
   "execution_count": 21,
   "id": "d3a9b7b5",
   "metadata": {},
   "outputs": [
    {
     "data": {
      "text/plain": [
       "Index(['Shimmer_F16C_TimestampSync_Unix_CAL',\n",
       "       'Shimmer_F16C_ECG_EMG_Status1_CAL', 'Shimmer_F16C_EMG_CH1_24BIT_CAL',\n",
       "       'Shimmer_F16C_EMG_CH2_24BIT_CAL', 'Unnamed: 4'],\n",
       "      dtype='object')"
      ]
     },
     "execution_count": 21,
     "metadata": {},
     "output_type": "execute_result"
    }
   ],
   "source": [
    "columns"
   ]
  },
  {
   "cell_type": "code",
   "execution_count": null,
   "id": "e90b9e34",
   "metadata": {},
   "outputs": [],
   "source": []
  }
 ],
 "metadata": {
  "kernelspec": {
   "display_name": "Python 3",
   "language": "python",
   "name": "python3"
  },
  "language_info": {
   "codemirror_mode": {
    "name": "ipython",
    "version": 3
   },
   "file_extension": ".py",
   "mimetype": "text/x-python",
   "name": "python",
   "nbconvert_exporter": "python",
   "pygments_lexer": "ipython3",
   "version": "3.8.5"
  }
 },
 "nbformat": 4,
 "nbformat_minor": 5
}
