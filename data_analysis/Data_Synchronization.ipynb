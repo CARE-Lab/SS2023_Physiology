{
 "cells": [
  {
   "cell_type": "code",
   "execution_count": 1,
   "id": "3d17f13c",
   "metadata": {},
   "outputs": [],
   "source": [
    "import numpy as np\n",
    "import pandas as pd\n",
    "import os"
   ]
  },
  {
   "cell_type": "code",
   "execution_count": 2,
   "id": "596fca8b",
   "metadata": {},
   "outputs": [],
   "source": [
    "# detection the change\n",
    "def trigger_detection(data, threshold, start=0, end=-1):\n",
    "    flag = False\n",
    "    intervals = []\n",
    "    if end < start:\n",
    "        end = data.shape[0]\n",
    "\n",
    "    for i in np.arange(start, end):\n",
    "        if (data[i] < threshold):\n",
    "            if flag == False:\n",
    "                flag = True\n",
    "                s = i\n",
    "            else:\n",
    "                if data[i+1] > threshold:\n",
    "                    e = i\n",
    "                    intervals.append((s, e))\n",
    "                    flag = False\n",
    "\n",
    "    return np.array(intervals)[:, 0]"
   ]
  },
  {
   "cell_type": "code",
   "execution_count": 3,
   "id": "b901b954",
   "metadata": {},
   "outputs": [],
   "source": [
    "# paths were the raw data is\n",
    "root_path = 'data/'\n",
    "data_path = os.path.join(root_path, 'Experiment')\n",
    "shimmer_path = os.path.join(data_path, 'shimmer')\n",
    "arduino_path = os.path.join(data_path, 'groove-GSR')\n",
    "\n",
    "# list all files (ignoring the hidden macos file)\n",
    "shimmer_files = [x for x in os.listdir(shimmer_path) if x.endswith('.csv')]\n",
    "gsr_files = [x for x in os.listdir(arduino_path) if x.endswith('.csv')]"
   ]
  },
  {
   "cell_type": "code",
   "execution_count": 4,
   "id": "7def1173",
   "metadata": {},
   "outputs": [
    {
     "data": {
      "text/plain": [
       "['04_EDA_SS2023_Exp1_Session1_Shimmer_D210_Calibrated_SD.csv',\n",
       " '02_EMG_SS2023_Exp1_Session1_Shimmer_F16C_Calibrated_SD.csv',\n",
       " '04_EMG_SS2023_Exp1_Session1_Shimmer_EC93_Calibrated_SD.csv',\n",
       " 'Trigger_SS2023_Exp1_Session1_Shimmer_895A_Calibrated_SD.csv',\n",
       " '03_EDA_SS2023_Exp1_Session1_Shimmer_86D4_Calibrated_SD.csv',\n",
       " '03_EMG_SS2023_Exp1_Session1_Shimmer_EC8E_Calibrated_SD.csv',\n",
       " '01_EMG_SS2023_Exp1_Session1_Shimmer_F0BA_Calibrated_SD.csv']"
      ]
     },
     "execution_count": 4,
     "metadata": {},
     "output_type": "execute_result"
    }
   ],
   "source": [
    "shimmer_files"
   ]
  },
  {
   "cell_type": "code",
   "execution_count": 5,
   "id": "47e2f94f",
   "metadata": {},
   "outputs": [],
   "source": [
    "# paths\n",
    "eda_indexes = [0, 4]\n",
    "trigger_index = 3\n",
    "\n",
    "trigger_path = shimmer_files[trigger_index]\n",
    "eda_path = [x for i,x in enumerate(shimmer_files) if i in eda_indexes]\n",
    "emg_path = [x for i,x in enumerate(shimmer_files) if i not in eda_indexes and i != trigger_index] \n",
    "\n",
    "# paths were the preprocessed data should be\n",
    "out_path = os.path.join(root_path, 'Segmented')\n",
    "emg_out_path = os.path.join(out_path, 'EMG')\n",
    "eda_out_path = os.path.join(out_path, 'EDA')\n",
    "\n",
    "# check if the output folders exist and create them if necessary\n",
    "for folder in [out_path, emg_out_path, eda_out_path]:\n",
    "    if not os.path.exists(folder):\n",
    "        os.mkdir(folder)"
   ]
  },
  {
   "cell_type": "code",
   "execution_count": 6,
   "id": "1dfed5cf",
   "metadata": {},
   "outputs": [],
   "source": [
    "# trigger loading and detection\n",
    "df = pd.read_csv(os.path.join(shimmer_path, trigger_path), skiprows=[0,2])\n",
    "columns = df.columns\n",
    "\n",
    "timestamps = np.array(df[columns[0]])\n",
    "trigger_values = np.array(df[columns[1]])\n",
    "\n",
    "trigger_pos = trigger_detection(trigger_values, 500)\n",
    "trigger_timestamps = timestamps[trigger_pos]"
   ]
  },
  {
   "cell_type": "code",
   "execution_count": 70,
   "id": "3dc9e7d6",
   "metadata": {},
   "outputs": [
    {
     "data": {
      "text/plain": [
       "66"
      ]
     },
     "execution_count": 70,
     "metadata": {},
     "output_type": "execute_result"
    }
   ],
   "source": [
    "# 66 triggers:\n",
    "#     1 -> experiment start\n",
    "#     2-65 -> the begin and the end of 32 videos\n",
    "#     66 -> calibration start\n",
    "len(trigger_pos)"
   ]
  },
  {
   "cell_type": "code",
   "execution_count": 14,
   "id": "053ade11",
   "metadata": {},
   "outputs": [
    {
     "data": {
      "text/plain": [
       "'02_EMG_SS2023_Exp1_Session1_Shimmer_F16C_Calibrated_SD.csv'"
      ]
     },
     "execution_count": 14,
     "metadata": {},
     "output_type": "execute_result"
    }
   ],
   "source": [
    "emg_path[0]"
   ]
  },
  {
   "cell_type": "code",
   "execution_count": 15,
   "id": "e1d8927c",
   "metadata": {},
   "outputs": [],
   "source": [
    "# segmenting the EMG data\n",
    "for emg in emg_path:\n",
    "    file_name = os.path.join(shimmer_path, emg)\n",
    "    out_path = os.path.join(emg_out_path, emg)\n",
    "    \n",
    "    df = pd.read_csv(file_name, skiprows=[0, 2])\n",
    "    columns = df.columns\n",
    "    \n",
    "    timestamps = np.array(df[columns[0]])\n",
    "    emg_ch1 = np.array(df[columns[2]])\n",
    "    emg_ch2 = np.array(df[columns[3]])\n",
    "    \n",
    "    out_timestamps = []\n",
    "    out_ch1 = []\n",
    "    out_ch2 = []\n",
    "    out_labels = []\n",
    "    \n",
    "    start_flag = False\n",
    "    for i, time in enumerate(trigger_timestamps[1:-1]): \n",
    "        if not start_flag:\n",
    "            start_pos = np.argwhere(timestamps >= time)[0, 0]\n",
    "            end_pos = np.argwhere(timestamps >= trigger_timestamps[i+2])[0, 0]\n",
    "\n",
    "            for pos in range(start_pos, end_pos+1):\n",
    "                out_timestamps.append(timestamps[pos])\n",
    "                out_ch1.append(emg_ch1[pos])\n",
    "                out_ch2.append(emg_ch2[pos])\n",
    "                out_labels.append(int(i / 2 + 1))\n",
    "            start_flag = True\n",
    "        else:\n",
    "            start_flag = False\n",
    "            \n",
    "    df = pd.DataFrame({columns[0]: out_timestamps, columns[2]: out_ch1, columns[3]: out_ch2, 'label': out_labels})\n",
    "    df.to_csv(out_path)"
   ]
  },
  {
   "cell_type": "code",
   "execution_count": 17,
   "id": "34604416",
   "metadata": {},
   "outputs": [],
   "source": [
    "# segmenting the EDA data\n",
    "for eda in eda_path:\n",
    "    file_name = os.path.join(shimmer_path, eda)\n",
    "    out_path = os.path.join(eda_out_path, eda)\n",
    "    \n",
    "    df = pd.read_csv(file_name, skiprows=[0, 2])\n",
    "    columns = df.columns\n",
    "\n",
    "    timestamps = np.array(df[columns[0]])\n",
    "    skin_conductance = np.array(df[columns[2]])\n",
    "#     ppg_to_hr = np.array(df[columns[6]])\n",
    "    \n",
    "    out_timestamps = []\n",
    "    out_skin_conductance = []\n",
    "#     out_ppg_to_hr = []\n",
    "    out_labels = []\n",
    "    \n",
    "    start_flag = False\n",
    "    for i, time in enumerate(trigger_timestamps[1:-1]):\n",
    "        if not start_flag:\n",
    "            start_pos = np.argwhere(timestamps >= time)[0, 0]\n",
    "            end_pos = np.argwhere(timestamps >= trigger_timestamps[i+2])[0, 0]\n",
    "            for pos in range(start_pos, end_pos+1):\n",
    "                out_timestamps.append(timestamps[pos])\n",
    "                out_skin_conductance.append(skin_conductance[pos])\n",
    "        #             out_ppg_to_hr.append(ppg_to_hr[pos])\n",
    "                out_labels.append(int(i / 2 + 1))\n",
    "\n",
    "            start_flag = True\n",
    "        else:\n",
    "            start_flag = False\n",
    "            \n",
    "    df = pd.DataFrame({columns[0]: out_timestamps, columns[2]: out_skin_conductance,\n",
    "                       'label': out_labels})\n",
    "    df.to_csv(out_path)"
   ]
  },
  {
   "cell_type": "code",
   "execution_count": 19,
   "id": "39b48ac9",
   "metadata": {},
   "outputs": [
    {
     "data": {
      "text/plain": [
       "['A0-01_A1-02_COM19_20230227_143419.csv']"
      ]
     },
     "execution_count": 19,
     "metadata": {},
     "output_type": "execute_result"
    }
   ],
   "source": [
    "gsr_files"
   ]
  },
  {
   "cell_type": "code",
   "execution_count": 20,
   "id": "49744e8a",
   "metadata": {},
   "outputs": [],
   "source": [
    "file_name = os.path.join(arduino_path, gsr_files[0])\n",
    "out_path_A0 = os.path.join(eda_out_path, '01-A0_COM19_20230227_143419.csv')\n",
    "out_path_A1 = os.path.join(eda_out_path, '02-A1_COM19_20230227_143419.csv')\n",
    "\n",
    "df = pd.read_csv(file_name)\n",
    "columns = df.columns"
   ]
  },
  {
   "cell_type": "code",
   "execution_count": 21,
   "id": "54112d1a",
   "metadata": {},
   "outputs": [],
   "source": [
    "# contains 67 triggers, the first trigger is generated by opening the serial port\n",
    "arduino_trigger_pos = trigger_detection(df['trigger_value'], 0.5)"
   ]
  },
  {
   "cell_type": "code",
   "execution_count": 22,
   "id": "e92d7a89",
   "metadata": {},
   "outputs": [],
   "source": [
    "# need to divide 1e3 when calculating the period\n",
    "arduino_relative_start = df['relative_time'][arduino_trigger_pos[1]]\n",
    "shimmer_start_timestamp = trigger_timestamps[0]"
   ]
  },
  {
   "cell_type": "code",
   "execution_count": 23,
   "id": "bde662cb",
   "metadata": {},
   "outputs": [],
   "source": [
    "GSR_A0 = np.array(df[columns[3]])\n",
    "GSR_A1 = np.array(df[columns[4]])\n",
    "relative_time = np.array(df[columns[5]])\n",
    "timestamps = (relative_time - arduino_relative_start) / 1e3 + shimmer_start_timestamp\n",
    "\n",
    "out_timestamps = []\n",
    "out_GSR_A0 = []\n",
    "out_GSR_A1 = []\n",
    "out_labels = []\n",
    "\n",
    "start_flag = False\n",
    "for i, time in enumerate(trigger_timestamps[1:-1]):\n",
    "    if not start_flag:\n",
    "        start_pos = np.argwhere(timestamps >= time)[0, 0]\n",
    "        end_pos = np.argwhere(timestamps >= trigger_timestamps[i+2])[0, 0]\n",
    "        for pos in range(start_pos, end_pos+1):\n",
    "            out_timestamps.append(timestamps[pos])\n",
    "            out_GSR_A0.append(GSR_A0[pos])\n",
    "            out_GSR_A1.append(GSR_A1[pos])\n",
    "            out_labels.append(int(i / 2 + 1))\n",
    "\n",
    "        start_flag = True\n",
    "    else:\n",
    "        start_flag = False\n",
    "\n",
    "df_A0 = pd.DataFrame({'timestamp_UNIX': out_timestamps, 'GSR': out_GSR_A0, 'label': out_labels})\n",
    "df_A1 = pd.DataFrame({'timestamp_UNIX': out_timestamps, 'GSR': out_GSR_A1, 'label': out_labels})\n",
    "\n",
    "df_A0.to_csv(out_path_A0, sep=',')\n",
    "df_A1.to_csv(out_path_A1, sep=',')"
   ]
  },
  {
   "cell_type": "markdown",
   "id": "5199433e",
   "metadata": {},
   "source": [
    "### Fourier"
   ]
  },
  {
   "cell_type": "code",
   "execution_count": 28,
   "id": "db589a3b",
   "metadata": {},
   "outputs": [],
   "source": [
    "import pywt\n",
    "import numpy as np\n",
    "import matplotlib.pyplot as plt\n",
    "from scipy.fft import fft, ifft\n",
    "from scipy.fft import rfft, irfft, rfftfreq"
   ]
  },
  {
   "cell_type": "code",
   "execution_count": 29,
   "id": "2f39a88d",
   "metadata": {},
   "outputs": [
    {
     "data": {
      "text/plain": [
       "Text(0.5, 0, 'Frequency (Hz)')"
      ]
     },
     "execution_count": 29,
     "metadata": {},
     "output_type": "execute_result"
    },
    {
     "data": {
      "image/png": "[encoded data removed]",
      "text/plain": [
       "<Figure size 1200x480 with 2 Axes>"
      ]
     },
     "metadata": {},
     "output_type": "display_data"
    }
   ],
   "source": [
    "# segmenting the EMG data\n",
    "\n",
    "file_name = os.path.join(shimmer_path, emg_path[0])\n",
    "\n",
    "df = pd.read_csv(file_name, skiprows=[0, 2])\n",
    "columns = df.columns\n",
    "\n",
    "timestamps = np.array(df[columns[0]])\n",
    "emg_ch1 = np.array(df[columns[2]])\n",
    "emg_ch2 = np.array(df[columns[3]])\n",
    "\n",
    "from matplotlib.pyplot import figure\n",
    "figure(figsize=(15, 6), dpi=80)\n",
    "\n",
    "# Number of samples in normalized_tone\n",
    "N_ch1 = emg_ch1.shape[0]\n",
    "N_ch2 = emg_ch2.shape[0]\n",
    "sample_rate = 512\n",
    "\n",
    "yf_ch1 = rfft(emg_ch1)\n",
    "xf_ch1 = rfftfreq(N_ch1, 1 / sample_rate)\n",
    "\n",
    "yf_ch2 = rfft(emg_ch2)\n",
    "xf_ch2 = rfftfreq(N_ch2, 1 / sample_rate)\n",
    "\n",
    "start_freq = 5\n",
    "start_pos_ch1 = np.argwhere(xf_ch1 > start_freq)[0, 0]\n",
    "start_pos_ch2 = np.argwhere(xf_ch2 > start_freq)[0, 0]\n",
    "plt.subplot(2, 1, 1)\n",
    "plt.plot(xf_ch1[start_pos_ch1:], np.abs(yf_ch1[start_pos_ch1:]))\n",
    "plt.ylabel('Power')\n",
    "plt.xlabel('Frequency (Hz)')\n",
    "\n",
    "plt.subplot(2, 1, 2)\n",
    "plt.plot(xf_ch2[start_pos_ch2:], np.abs(yf_ch2[start_pos_ch2:]))\n",
    "plt.ylabel('Power')\n",
    "plt.xlabel('Frequency (Hz)')"
   ]
  }
 ],
 "metadata": {
  "kernelspec": {
   "display_name": "Python 3 (ipykernel)",
   "language": "python",
   "name": "python3"
  },
  "language_info": {
   "codemirror_mode": {
    "name": "ipython",
    "version": 3
   },
   "file_extension": ".py",
   "mimetype": "text/x-python",
   "name": "python",
   "nbconvert_exporter": "python",
   "pygments_lexer": "ipython3",
   "version": "3.8.15"
  }
 },
 "nbformat": 4,
 "nbformat_minor": 5
}
