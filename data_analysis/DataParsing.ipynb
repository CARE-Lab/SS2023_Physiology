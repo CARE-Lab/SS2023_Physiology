{
 "cells": [
  {
   "cell_type": "code",
   "execution_count": 1,
   "id": "98924886",
   "metadata": {},
   "outputs": [],
   "source": [
    "import glob\n",
    "import pandas as pd"
   ]
  },
  {
   "cell_type": "code",
   "execution_count": 11,
   "id": "477fb291",
   "metadata": {},
   "outputs": [],
   "source": [
    "dir_name = glob.glob('data/Pilot/GSR_arduino_log/*.log')\n",
    "GSR_path = []\n",
    "\n",
    "for name in dir_name:\n",
    "    GSR_path.append(name)\n",
    "    with open(name) as f:\n",
    "        records = f.readlines()\n",
    "        \n",
    "        start_point = 1\n",
    "        values = records[start_point].split(' ')\n",
    "        timestamp_pre = values[0] + ' ' + values[1]\n",
    "        \n",
    "        for record in records[1:]:\n",
    "            values = record.split(' ')\n",
    "            timestamp_cur = values[0] + ' ' + values[1]\n",
    "            if timestamp_pre == timestamp_cur:\n",
    "                start_point += 1\n",
    "                \n",
    "        timestamps = []\n",
    "        GSR1 = []\n",
    "        GSR2 = []\n",
    "        relative_time = []\n",
    "        trigger_value = []\n",
    "        \n",
    "        for record in records[start_point:]:\n",
    "            values = record.split(', ')\n",
    "            strs = values[0].split(' ')\n",
    "            timestamps.append((strs[0] + ' ' + strs[1])[1:-1])\n",
    "            GSR1.append(strs[2])\n",
    "            GSR2.append(values[1])\n",
    "            relative_time.append(values[2])\n",
    "            trigger_value.append(values[3].split('\\n')[0])\n",
    "    \n",
    "    df = pd.DataFrame({'timestamp': timestamps, 'GSR1': GSR1, 'GSR2': GSR2, 'relative_time': relative_time, 'trigger_value': trigger_value})\n",
    "    df.to_csv(name.split('.')[0] + '.csv', sep=',')"
   ]
  }
 ],
 "metadata": {
  "kernelspec": {
   "display_name": "Python 3 (ipykernel)",
   "language": "python",
   "name": "python3"
  },
  "language_info": {
   "codemirror_mode": {
    "name": "ipython",
    "version": 3
   },
   "file_extension": ".py",
   "mimetype": "text/x-python",
   "name": "python",
   "nbconvert_exporter": "python",
   "pygments_lexer": "ipython3",
   "version": "3.8.15"
  }
 },
 "nbformat": 4,
 "nbformat_minor": 5
}
