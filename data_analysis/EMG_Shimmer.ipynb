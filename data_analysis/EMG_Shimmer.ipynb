{
 "cells": [
  {
   "cell_type": "code",
   "execution_count": 1,
   "id": "b3e3d3af",
   "metadata": {},
   "outputs": [],
   "source": [
    "import os\n",
    "import pandas as pd\n",
    "import numpy  as np\n",
    "from scipy.fft    import dct, idct\n",
    "from scipy.signal import butter, savgol_filter, ellip, filtfilt, detrend\n",
    "from matplotlib   import pylab as plt"
   ]
  },
  {
   "cell_type": "markdown",
   "id": "cf7c5c80",
   "metadata": {},
   "source": [
    "## Loading data"
   ]
  },
  {
   "cell_type": "code",
   "execution_count": 2,
   "id": "6f8bac82",
   "metadata": {},
   "outputs": [],
   "source": [
    "# paths were the raw data is\n",
    "root_path = '../../01_Data/'\n",
    "data_path = os.path.join(root_path, 'Labeled')\n",
    "emg_path  = os.path.join(data_path, 'EMG')\n",
    "\n",
    "# paths were the preprocessed data should be\n",
    "out_path = os.path.join(root_path, 'Processed')\n",
    "emg_out_path = os.path.join(out_path, 'EMG')\n",
    "\n",
    "# check if the output folders exist and create them if necessary\n",
    "for folder in [out_path, emg_out_path]:\n",
    "    if not os.path.exists(folder):\n",
    "        os.mkdir(folder)\n",
    "\n",
    "# list all emg and eda files (ignoring the hidden macos file)\n",
    "emg_files = [x for x in os.listdir(emg_path) if not '.DS_Store' in x]"
   ]
  },
  {
   "cell_type": "markdown",
   "id": "92e2f5e3",
   "metadata": {},
   "source": [
    "## Preprocessing"
   ]
  },
  {
   "cell_type": "code",
   "execution_count": null,
   "id": "b40c8515",
   "metadata": {},
   "outputs": [],
   "source": [
    "# Reshape a numpy array 'a' of shape (n, x) to form shape((n - window_size), window_size, x))\n",
    "def rolling_window(a, window, step_size):\n",
    "    shape = a.shape[:-1] + (a.shape[-1] - window + 1 - step_size + 1, window)\n",
    "    strides = a.strides + (a.strides[-1] * step_size,)\n",
    "    return np.lib.stride_tricks.as_strided(a, shape=shape, strides=strides)"
   ]
  },
  {
   "cell_type": "code",
   "execution_count": null,
   "id": "4024d7cb",
   "metadata": {},
   "outputs": [],
   "source": [
    "# all 3 functions taken from matlab implementation after Anne Grübler\n",
    "def notch_filter(data, notch, width, fs):\n",
    "    fa = (notch - width) / (fs/2)\n",
    "    fb = (notch + width) / (fs/2)\n",
    "    Wn = np.array([fa, fb])\n",
    "    order = 4\n",
    "    b, a = butter(order, Wn, btype='stop')\n",
    "    return filtfilt(b, a, data)\n",
    "\n",
    "def elliptic_filter(data, flow, fhigh, fs):\n",
    "    Wn    = np.array([flow, fhigh]) * (2/fs)\n",
    "    order = 4\n",
    "    maxRipple      = 0.1\n",
    "    minAttenuation = 40\n",
    "    b, a  = ellip(order, maxRipple, minAttenuation, Wn, btype='stop')\n",
    "    return filtfilt(b, a, data)\n",
    "\n",
    "def local_filter(data, notch, width, flow, fhigh, fs):\n",
    "    signal = data\n",
    "    if (len(notch) > 1):\n",
    "        for kk in range(len(notch)):\n",
    "            signal = notch_filter(signal, notch[kk], width[kk], fs)\n",
    "    else:\n",
    "        signal = notch_filter(signal, notch, width, fs)\n",
    "    signal = elliptic_filter(signal, flow, fhigh, fs)\n",
    "    return detrend(signal)"
   ]
  },
  {
   "cell_type": "code",
   "execution_count": null,
   "id": "9638e9f0",
   "metadata": {},
   "outputs": [],
   "source": [
    "fs      = 1000 # emg sampling frequency\n",
    "f_notch = np.array([50, 100, 150, 200, 250, 300]) # notch frequencies to filter out\n",
    "width   = np.ones(len(f_notch)) * 3;              # width/2 of each notch\n",
    "cutlow  = 5    # lower cut-off frequency for elliptic filter\n",
    "cuthigh = 350  # upper cut-off frequency for elliptic filter\n",
    "\n",
    "for file in emg_files:\n",
    "    filepath = os.path.join(emg_path, file)\n",
    "    df       = pd.read_csv(filepath)\n",
    "\n",
    "    # filter and save it into the data frame loaded\n",
    "    df.ch1 = local_filter(df.ch1, f_notch, width, cutlow, cuthigh, fs)\n",
    "    df.ch2 = local_filter(df.ch2, f_notch, width, cutlow, cuthigh, fs)\n",
    "    df.ch3 = local_filter(df.ch3, f_notch, width, cutlow, cuthigh, fs)\n",
    "    df.ch4 = local_filter(df.ch4, f_notch, width, cutlow, cuthigh, fs)\n",
    "\n",
    "    # save data frame with pre-processed data to new file\n",
    "    df.to_csv(os.path.join(emg_out_path, file), index=False)"
   ]
  }
 ],
 "metadata": {
  "kernelspec": {
   "display_name": "Python 3 (ipykernel)",
   "language": "python",
   "name": "python3"
  },
  "language_info": {
   "codemirror_mode": {
    "name": "ipython",
    "version": 3
   },
   "file_extension": ".py",
   "mimetype": "text/x-python",
   "name": "python",
   "nbconvert_exporter": "python",
   "pygments_lexer": "ipython3",
   "version": "3.8.15"
  }
 },
 "nbformat": 4,
 "nbformat_minor": 5
}
