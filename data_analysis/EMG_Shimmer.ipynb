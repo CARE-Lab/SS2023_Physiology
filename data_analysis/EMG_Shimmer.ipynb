{
 "cells": [
  {
   "cell_type": "code",
   "execution_count": 15,
   "id": "b3e3d3af",
   "metadata": {},
   "outputs": [],
   "source": [
    "import os\n",
    "import pandas as pd\n",
    "import numpy  as np\n",
    "from scipy.fft    import dct, idct\n",
    "from scipy.signal import butter, savgol_filter, ellip, filtfilt, detrend\n",
    "from matplotlib   import pylab as plt"
   ]
  },
  {
   "cell_type": "markdown",
   "id": "cf7c5c80",
   "metadata": {},
   "source": [
    "## Loading data"
   ]
  },
  {
   "cell_type": "code",
   "execution_count": 16,
   "id": "6f8bac82",
   "metadata": {},
   "outputs": [],
   "source": [
    "# paths were the raw data is\n",
    "root_path = 'data/'\n",
    "data_path = os.path.join(root_path, 'Experiment')\n",
    "shimmer_path  = os.path.join(data_path, 'shimmer')\n",
    "\n",
    "# paths were the preprocessed data should be\n",
    "out_path = os.path.join(root_path, 'Processed')\n",
    "emg_out_path = os.path.join(out_path, 'EMG')\n",
    "\n",
    "# check if the output folders exist and create them if necessary\n",
    "for folder in [out_path, emg_out_path]:\n",
    "    if not os.path.exists(folder):\n",
    "        os.mkdir(folder)\n",
    "\n",
    "# list all files (ignoring the hidden macos file)\n",
    "shimmer_files = [x for x in os.listdir(shimmer_path) if x.endswith('.csv')]"
   ]
  },
  {
   "cell_type": "code",
   "execution_count": 17,
   "id": "49b95108",
   "metadata": {},
   "outputs": [
    {
     "data": {
      "text/plain": [
       "['04_EDA_SS2023_Exp1_Session1_Shimmer_D210_Calibrated_SD.csv',\n",
       " '02_EMG_SS2023_Exp1_Session1_Shimmer_F16C_Calibrated_SD.csv',\n",
       " '04_EMG_SS2023_Exp1_Session1_Shimmer_EC93_Calibrated_SD.csv',\n",
       " 'Trigger_SS2023_Exp1_Session1_Shimmer_895A_Calibrated_SD.csv',\n",
       " '03_EDA_SS2023_Exp1_Session1_Shimmer_86D4_Calibrated_SD.csv',\n",
       " '03_EMG_SS2023_Exp1_Session1_Shimmer_EC8E_Calibrated_SD.csv',\n",
       " '01_EMG_SS2023_Exp1_Session1_Shimmer_F0BA_Calibrated_SD.csv']"
      ]
     },
     "execution_count": 17,
     "metadata": {},
     "output_type": "execute_result"
    }
   ],
   "source": [
    "shimmer_files"
   ]
  },
  {
   "cell_type": "code",
   "execution_count": 18,
   "id": "59b9b973",
   "metadata": {},
   "outputs": [],
   "source": [
    "# set the specific path\n",
    "emg_path = shimmer_files[2]\n",
    "trigger_path = shimmer_files[3]"
   ]
  },
  {
   "cell_type": "code",
   "execution_count": 19,
   "id": "196519c4",
   "metadata": {},
   "outputs": [
    {
     "data": {
      "text/plain": [
       "('04_EMG_SS2023_Exp1_Session1_Shimmer_EC93_Calibrated_SD.csv',\n",
       " 'Trigger_SS2023_Exp1_Session1_Shimmer_895A_Calibrated_SD.csv')"
      ]
     },
     "execution_count": 19,
     "metadata": {},
     "output_type": "execute_result"
    }
   ],
   "source": [
    "emg_path, trigger_path"
   ]
  },
  {
   "cell_type": "markdown",
   "id": "92e2f5e3",
   "metadata": {},
   "source": [
    "## Preprocessing"
   ]
  },
  {
   "cell_type": "code",
   "execution_count": 43,
   "id": "b40c8515",
   "metadata": {},
   "outputs": [],
   "source": [
    "# Reshape a numpy array 'a' of shape (n, x) to form shape((n - window_size), window_size, x))\n",
    "def rolling_window(a, window, step_size):\n",
    "    shape = a.shape[:-1] + (a.shape[-1] - window + 1 - step_size + 1, window)\n",
    "    strides = a.strides + (a.strides[-1] * step_size,)\n",
    "    return np.lib.stride_tricks.as_strided(a, shape=shape, strides=strides)"
   ]
  },
  {
   "cell_type": "code",
   "execution_count": 63,
   "id": "4024d7cb",
   "metadata": {},
   "outputs": [],
   "source": [
    "# all 3 functions taken from matlab implementation after Anne Grübler\n",
    "def notch_filter(data, notch, width, fs):\n",
    "    fa = (notch - width) / (fs/2)\n",
    "    fb = (notch + width) / (fs/2)\n",
    "    Wn = np.array([fa, fb])\n",
    "    order = 4\n",
    "    b, a = butter(order, Wn, btype='stop')\n",
    "    return filtfilt(b, a, data)\n",
    "\n",
    "def elliptic_filter(data, flow, fhigh, fs):\n",
    "    Wn    = np.array([flow, fhigh]) * (2/fs)\n",
    "    order = 4\n",
    "    maxRipple      = 0.1\n",
    "    minAttenuation = 40\n",
    "    b, a  = ellip(order, maxRipple, minAttenuation, Wn, btype='stop')\n",
    "    return filtfilt(b, a, data)\n",
    "\n",
    "def local_filter(data, notch, width, flow, fhigh, fs):\n",
    "    signal = data\n",
    "    if (len(notch) > 1):\n",
    "        for kk in range(len(notch)):\n",
    "            signal = notch_filter(signal, notch[kk], width[kk], fs)\n",
    "    else:\n",
    "        signal = notch_filter(signal, notch, width, fs)\n",
    "    signal = elliptic_filter(signal, flow, fhigh, fs)\n",
    "    return detrend(signal)"
   ]
  },
  {
   "cell_type": "code",
   "execution_count": 64,
   "id": "9638e9f0",
   "metadata": {},
   "outputs": [],
   "source": [
    "fs      = 1024 # emg sampling frequency\n",
    "f_notch = np.array([50, 100, 150, 200, 250, 300]) # notch frequencies to filter out\n",
    "width   = np.ones(len(f_notch)) * 3;              # width/2 of each notch\n",
    "cutlow  = 5    # lower cut-off frequency for elliptic filter\n",
    "cuthigh = 350  # upper cut-off frequency for elliptic filter\n",
    "\n",
    "\n",
    "filepath = os.path.join(shimmer_path, emg_path)\n",
    "df       = pd.read_csv(filepath, skiprows=[0, 2])"
   ]
  },
  {
   "cell_type": "code",
   "execution_count": 65,
   "id": "e47c62b0",
   "metadata": {},
   "outputs": [
    {
     "data": {
      "text/plain": [
       "Index(['Shimmer_EC93_TimestampSync_Unix_CAL',\n",
       "       'Shimmer_EC93_ECG_EMG_Status1_CAL', 'Shimmer_EC93_EMG_CH1_24BIT_CAL',\n",
       "       'Shimmer_EC93_EMG_CH2_24BIT_CAL', 'Unnamed: 4'],\n",
       "      dtype='object')"
      ]
     },
     "execution_count": 65,
     "metadata": {},
     "output_type": "execute_result"
    }
   ],
   "source": [
    "df.columns"
   ]
  },
  {
   "cell_type": "code",
   "execution_count": 66,
   "id": "b962eb1c",
   "metadata": {},
   "outputs": [],
   "source": [
    "df_ch1 = df['Shimmer_EC93_EMG_CH1_24BIT_CAL']\n",
    "df_ch2 = df['Shimmer_EC93_EMG_CH2_24BIT_CAL']"
   ]
  },
  {
   "cell_type": "code",
   "execution_count": 67,
   "id": "3b24ef20",
   "metadata": {},
   "outputs": [],
   "source": [
    "# filter and save it into the data frame loaded\n",
    "df_ch1 = local_filter(df_ch1, f_notch, width, cutlow, cuthigh, fs)\n",
    "df_ch2 = local_filter(df_ch2, f_notch, width, cutlow, cuthigh, fs)"
   ]
  },
  {
   "cell_type": "code",
   "execution_count": null,
   "id": "b6204b23",
   "metadata": {},
   "outputs": [],
   "source": [
    "# save data frame with pre-processed data to new file\n",
    "df.to_csv(os.path.join(emg_out_path, emg_path), index=False)"
   ]
  }
 ],
 "metadata": {
  "kernelspec": {
   "display_name": "Python 3 (ipykernel)",
   "language": "python",
   "name": "python3"
  },
  "language_info": {
   "codemirror_mode": {
    "name": "ipython",
    "version": 3
   },
   "file_extension": ".py",
   "mimetype": "text/x-python",
   "name": "python",
   "nbconvert_exporter": "python",
   "pygments_lexer": "ipython3",
   "version": "3.8.15"
  }
 },
 "nbformat": 4,
 "nbformat_minor": 5
}
