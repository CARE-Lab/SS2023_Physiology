{
 "cells": [
  {
   "cell_type": "code",
   "execution_count": null,
   "id": "9d85b07a",
   "metadata": {},
   "outputs": [],
   "source": [
    "import os\n",
    "import pandas as pd\n",
    "import numpy  as np\n",
    "from scipy.fft    import dct, idct\n",
    "from scipy.signal import butter, savgol_filter, ellip, filtfilt, detrend\n",
    "from matplotlib   import pylab as plt"
   ]
  },
  {
   "cell_type": "markdown",
   "id": "1016fde3",
   "metadata": {},
   "source": [
    "## Loading data"
   ]
  },
  {
   "cell_type": "code",
   "execution_count": null,
   "id": "e04cfce3",
   "metadata": {},
   "outputs": [],
   "source": [
    "# paths were the raw data is\n",
    "root_path = '../../01_Data/'\n",
    "data_path = os.path.join(root_path, 'Labeled')\n",
    "emg_path  = os.path.join(data_path, 'EMG')\n",
    "eda_path  = os.path.join(data_path, 'EDA')\n",
    "\n",
    "# paths were the preprocessed data should be\n",
    "out_path = os.path.join(root_path, 'Processed')\n",
    "eda_out_path = os.path.join(out_path, 'EDA')\n",
    "emg_out_path = os.path.join(out_path, 'EMG')\n",
    "\n",
    "# check if the output folders exist and create them if necessary\n",
    "for folder in [out_path, eda_out_path, emg_out_path]:\n",
    "    if not os.path.exists(folder):\n",
    "        os.mkdir(folder)\n",
    "\n",
    "# list all emg and eda files (ignoring the hidden macos file)\n",
    "emg_files = [x for x in os.listdir(emg_path) if not '.DS_Store' in x]\n",
    "eda_files = [x for x in os.listdir(eda_path) if not '.DS_Store' in x]"
   ]
  },
  {
   "cell_type": "code",
   "execution_count": null,
   "id": "7331d243",
   "metadata": {},
   "outputs": [],
   "source": [
    "# Reshape a numpy array 'a' of shape (n, x) to form shape((n - window_size), window_size, x))\n",
    "def rolling_window(a, window, step_size):\n",
    "    shape = a.shape[:-1] + (a.shape[-1] - window + 1 - step_size + 1, window)\n",
    "    strides = a.strides + (a.strides[-1] * step_size,)\n",
    "    return np.lib.stride_tricks.as_strided(a, shape=shape, strides=strides)"
   ]
  },
  {
   "cell_type": "markdown",
   "id": "7bea7663",
   "metadata": {},
   "source": [
    "## Preprocessing"
   ]
  },
  {
   "cell_type": "code",
   "execution_count": null,
   "id": "ef72270a",
   "metadata": {},
   "outputs": [],
   "source": [
    "def filterTonicEDA(signal, coarsest=2):\n",
    "    X        = dct(signal) # discrete cosine transform\n",
    "    absX     = np.abs(X)   # keep magnitude only\n",
    "    absX[::-1].sort()      # sort in reverse order (descending)\n",
    "    absX[coarsest:] = 0    # remove components with less impact\n",
    "    tonic    = idct(absX)  # inverse discrete cosine transform\n",
    "    return signal - tonic, tonic # return phasic and tonic component"
   ]
  },
  {
   "cell_type": "code",
   "execution_count": null,
   "id": "aa73843b",
   "metadata": {},
   "outputs": [],
   "source": [
    "# pre-processing like in Perusquia, 2019: skin condunctance from neck and hand\n",
    "\n",
    "fs_eda     = 128  # sampling frequency of EDA data\n",
    "step_width = 1    # of sliding window\n",
    "winDur     = 0.1  # duration in seconds of sliding window\n",
    "N_win      = int(np.round(fs_eda * winDur)) # duration of sliding window in samples\n",
    "smoothing_fcn = np.mean # I could call np.mean(..) later but apparently it is faster this way\n",
    "winLen     = 1001 # sample duration of the savitzky golay filter\n",
    "order      = 1    # order of the savitzky golay filter\n",
    "\n",
    "for file in eda_files:\n",
    "    filepath = os.path.join(eda_path, file)\n",
    "    df       = pd.read_csv(filepath)\n",
    "\n",
    "    # note: instead of usually writing df[\"data\"] we can write df.data\n",
    "    buffer  = rolling_window(df.data.values, N_win, step_width)    # arrange data in 100 ms sliding windows\n",
    "    smooth  = smoothing_fcn(buffer, axis=1) # mean average of 100 ms sliding windows\n",
    "    phasic, tonic = filterTonicEDA(smooth)  # remove signal consisting of first 2 dct components only\n",
    "    eda_filtered  = signal.savgol_filter(phasic, winLen, order) # apply savitzky-golay filter\n",
    "    # pad zeros at the end because sliding window makes the signal a bit shorter\n",
    "    # and save it into the data frame loaded\n",
    "    df.data = np.concatenate((eda_filtered, np.zeros(N_win-1)))\n",
    "    df['tonic'] = np.concatenate((tonic, np.zeros(N_win-1)))\n",
    "\n",
    "    # rename data to phasic\n",
    "    column_names = list(df.columns)\n",
    "    column_names[1] = 'phasic'\n",
    "    df.columns = column_names\n",
    "\n",
    "    # order columns so that data comes before labels\n",
    "    df = df[df.columns[[0,1,-1,*list(range(2,len(column_names)-1))]]]\n",
    "\n",
    "    # save data frame with pre-processed data to new file\n",
    "    df.to_csv(os.path.join(eda_out_path, file), index=False)"
   ]
  },
  {
   "cell_type": "code",
   "execution_count": null,
   "id": "6f446d2f",
   "metadata": {},
   "outputs": [],
   "source": [
    "df.head()"
   ]
  },
  {
   "cell_type": "code",
   "execution_count": null,
   "id": "50aaa678",
   "metadata": {},
   "outputs": [],
   "source": []
  }
 ],
 "metadata": {
  "kernelspec": {
   "display_name": "Python 3",
   "language": "python",
   "name": "python3"
  },
  "language_info": {
   "codemirror_mode": {
    "name": "ipython",
    "version": 3
   },
   "file_extension": ".py",
   "mimetype": "text/x-python",
   "name": "python",
   "nbconvert_exporter": "python",
   "pygments_lexer": "ipython3",
   "version": "3.8.5"
  }
 },
 "nbformat": 4,
 "nbformat_minor": 5
}
