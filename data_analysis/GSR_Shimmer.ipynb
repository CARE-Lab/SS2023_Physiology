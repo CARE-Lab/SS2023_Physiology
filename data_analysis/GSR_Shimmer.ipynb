{
 "cells": [
  {
   "cell_type": "code",
   "execution_count": 1,
   "id": "a20258c4",
   "metadata": {},
   "outputs": [],
   "source": [
    "import os\n",
    "import pandas as pd\n",
    "import numpy  as np\n",
    "from scipy.fft    import dct, idct\n",
    "from scipy.signal import butter, savgol_filter, ellip, filtfilt, detrend\n",
    "from matplotlib   import pylab as plt"
   ]
  },
  {
   "cell_type": "markdown",
   "id": "5e9f6500",
   "metadata": {},
   "source": [
    "## Loading data"
   ]
  },
  {
   "cell_type": "code",
   "execution_count": 20,
   "id": "ea0a4a55",
   "metadata": {},
   "outputs": [],
   "source": [
    "# paths were the raw data is\n",
    "root_path = 'data/'\n",
    "data_path = os.path.join(root_path, 'Pilot')\n",
    "shimmer_path  = os.path.join(data_path, '2023-02-26_18.38.04_Pilot_SS_SD_Session1')\n",
    "\n",
    "# paths were the preprocessed data should be\n",
    "out_path = os.path.join(root_path, 'Processed')\n",
    "eda_out_path = os.path.join(out_path, 'EDA')\n",
    "\n",
    "# check if the output folders exist and create them if necessary\n",
    "for folder in [out_path, eda_out_path]:\n",
    "    if not os.path.exists(folder):\n",
    "        os.mkdir(folder)\n",
    "\n",
    "# list all files (ignoring the hidden macos file)\n",
    "shimmer_files = [x for x in os.listdir(shimmer_path) if x.endswith('.csv')]"
   ]
  },
  {
   "cell_type": "code",
   "execution_count": 21,
   "id": "85080f2d",
   "metadata": {},
   "outputs": [
    {
     "data": {
      "text/plain": [
       "['Pilot_SS_Session1_Shimmer_D210_Calibrated_SD.csv',\n",
       " 'Pilot_SS_Session1_Shimmer_EC8E_Calibrated_SD.csv',\n",
       " 'Pilot_SS_Session1_Shimmer_895A_Calibrated_SD.csv']"
      ]
     },
     "execution_count": 21,
     "metadata": {},
     "output_type": "execute_result"
    }
   ],
   "source": [
    "shimmer_files"
   ]
  },
  {
   "cell_type": "code",
   "execution_count": 22,
   "id": "1a9696f9",
   "metadata": {},
   "outputs": [
    {
     "data": {
      "text/plain": [
       "'Pilot_SS_Session1_Shimmer_D210_Calibrated_SD.csv'"
      ]
     },
     "execution_count": 22,
     "metadata": {},
     "output_type": "execute_result"
    }
   ],
   "source": [
    "eda_shimmer = shimmer_files[0]\n",
    "eda_shimmer"
   ]
  },
  {
   "cell_type": "code",
   "execution_count": 23,
   "id": "34e7cc65",
   "metadata": {},
   "outputs": [
    {
     "data": {
      "text/plain": [
       "'Pilot_SS_Session1_Shimmer_D210_Calibrated_SD.csv'"
      ]
     },
     "execution_count": 23,
     "metadata": {},
     "output_type": "execute_result"
    }
   ],
   "source": [
    "trigger_shimmer = shimmer_files[2]\n",
    "eda_shimmer"
   ]
  },
  {
   "cell_type": "markdown",
   "id": "39bb01da",
   "metadata": {},
   "source": [
    "## Preprocessing"
   ]
  },
  {
   "cell_type": "code",
   "execution_count": 24,
   "id": "4440c277",
   "metadata": {},
   "outputs": [],
   "source": [
    "# Reshape a numpy array 'a' of shape (n, x) to form shape((n - window_size), window_size, x))\n",
    "def rolling_window(a, window, step_size):\n",
    "    shape = a.shape[:-1] + (a.shape[-1] - window + 1 - step_size + 1, window)\n",
    "    strides = a.strides + (a.strides[-1] * step_size,)\n",
    "    return np.lib.stride_tricks.as_strided(a, shape=shape, strides=strides)"
   ]
  },
  {
   "cell_type": "code",
   "execution_count": 25,
   "id": "9aaa5bad",
   "metadata": {},
   "outputs": [],
   "source": [
    "def filterTonicEDA(signal, coarsest=2):\n",
    "    X        = dct(signal) # discrete cosine transform\n",
    "    absX     = np.abs(X)   # keep magnitude only\n",
    "    absX[::-1].sort()      # sort in reverse order (descending)\n",
    "    absX[coarsest:] = 0    # remove components with less impact\n",
    "    tonic    = idct(absX)  # inverse discrete cosine transform\n",
    "    return signal - tonic, tonic # return phasic and tonic component"
   ]
  },
  {
   "cell_type": "code",
   "execution_count": 34,
   "id": "41466758",
   "metadata": {},
   "outputs": [],
   "source": [
    "# pre-processing like in Perusquia, 2019: skin condunctance from neck and hand\n",
    "\n",
    "fs_eda     = 128  # sampling frequency of EDA data\n",
    "step_width = 1    # of sliding window\n",
    "winDur     = 0.1  # duration in seconds of sliding window\n",
    "N_win      = int(np.round(fs_eda * winDur)) # duration of sliding window in samples\n",
    "smoothing_fcn = np.mean # I could call np.mean(..) later but apparently it is faster this way\n",
    "winLen     = 1001 # sample duration of the savitzky golay filter\n",
    "order      = 1    # order of the savitzky golay filter\n",
    "\n",
    "filepath = os.path.join(shimmer_path, eda_shimmer)\n",
    "df       = pd.read_csv(filepath, skiprows=[0,2], header=[0])"
   ]
  },
  {
   "cell_type": "code",
   "execution_count": 35,
   "id": "c68285a4",
   "metadata": {},
   "outputs": [
    {
     "data": {
      "text/html": [
       "<div>\n",
       "<style scoped>\n",
       "    .dataframe tbody tr th:only-of-type {\n",
       "        vertical-align: middle;\n",
       "    }\n",
       "\n",
       "    .dataframe tbody tr th {\n",
       "        vertical-align: top;\n",
       "    }\n",
       "\n",
       "    .dataframe thead tr th {\n",
       "        text-align: left;\n",
       "    }\n",
       "</style>\n",
       "<table border=\"1\" class=\"dataframe\">\n",
       "  <thead>\n",
       "    <tr>\n",
       "      <th></th>\n",
       "      <th></th>\n",
       "      <th></th>\n",
       "      <th></th>\n",
       "      <th></th>\n",
       "      <th></th>\n",
       "      <th></th>\n",
       "      <th>sep=,</th>\n",
       "    </tr>\n",
       "    <tr>\n",
       "      <th></th>\n",
       "      <th></th>\n",
       "      <th></th>\n",
       "      <th></th>\n",
       "      <th></th>\n",
       "      <th></th>\n",
       "      <th></th>\n",
       "      <th>Shimmer_D210_TimestampSync_Unix_CAL</th>\n",
       "    </tr>\n",
       "    <tr>\n",
       "      <th></th>\n",
       "      <th></th>\n",
       "      <th></th>\n",
       "      <th></th>\n",
       "      <th></th>\n",
       "      <th></th>\n",
       "      <th></th>\n",
       "      <th>ms</th>\n",
       "    </tr>\n",
       "  </thead>\n",
       "  <tbody>\n",
       "    <tr>\n",
       "      <th rowspan=\"5\" valign=\"top\">1.677404e+12</th>\n",
       "      <th rowspan=\"5\" valign=\"top\">1.0</th>\n",
       "      <th rowspan=\"5\" valign=\"top\">0.084236</th>\n",
       "      <th rowspan=\"5\" valign=\"top\">11871.363636</th>\n",
       "      <th>12515.018315</th>\n",
       "      <th>-1.0</th>\n",
       "      <th>-1.0</th>\n",
       "      <td>NaN</td>\n",
       "    </tr>\n",
       "    <tr>\n",
       "      <th>1679.120879</th>\n",
       "      <th>-1.0</th>\n",
       "      <th>-1.0</th>\n",
       "      <td>NaN</td>\n",
       "    </tr>\n",
       "    <tr>\n",
       "      <th rowspan=\"3\" valign=\"top\">1704.029304</th>\n",
       "      <th rowspan=\"3\" valign=\"top\">-1.0</th>\n",
       "      <th>-1.0</th>\n",
       "      <td>NaN</td>\n",
       "    </tr>\n",
       "    <tr>\n",
       "      <th>-1.0</th>\n",
       "      <td>NaN</td>\n",
       "    </tr>\n",
       "    <tr>\n",
       "      <th>-1.0</th>\n",
       "      <td>NaN</td>\n",
       "    </tr>\n",
       "  </tbody>\n",
       "</table>\n",
       "</div>"
      ],
      "text/plain": [
       "                                                                                            sep=,\n",
       "                                                              Shimmer_D210_TimestampSync_Unix_CAL\n",
       "                                                                                               ms\n",
       "1.677404e+12 1.0 0.084236 11871.363636 12515.018315 -1.0 -1.0                                 NaN\n",
       "                                       1679.120879  -1.0 -1.0                                 NaN\n",
       "                                       1704.029304  -1.0 -1.0                                 NaN\n",
       "                                                         -1.0                                 NaN\n",
       "                                                         -1.0                                 NaN"
      ]
     },
     "execution_count": 35,
     "metadata": {},
     "output_type": "execute_result"
    }
   ],
   "source": [
    "df.head()"
   ]
  },
  {
   "cell_type": "code",
   "execution_count": null,
   "id": "54e2c11b",
   "metadata": {},
   "outputs": [],
   "source": [
    "# note: instead of usually writing df[\"data\"] we can write df.data\n",
    "buffer  = rolling_window(df.data.values, N_win, step_width)    # arrange data in 100 ms sliding windows\n",
    "smooth  = smoothing_fcn(buffer, axis=1) # mean average of 100 ms sliding windows\n",
    "phasic, tonic = filterTonicEDA(smooth)  # remove signal consisting of first 2 dct components only\n",
    "eda_filtered  = signal.savgol_filter(phasic, winLen, order) # apply savitzky-golay filter\n",
    "# pad zeros at the end because sliding window makes the signal a bit shorter\n",
    "# and save it into the data frame loaded\n",
    "df.data = np.concatenate((eda_filtered, np.zeros(N_win-1)))\n",
    "df['tonic'] = np.concatenate((tonic, np.zeros(N_win-1)))\n",
    "\n",
    "# rename data to phasic\n",
    "column_names = list(df.columns)\n",
    "column_names[1] = 'phasic'\n",
    "df.columns = column_names\n",
    "\n",
    "# order columns so that data comes before labels\n",
    "df = df[df.columns[[0,1,-1,*list(range(2,len(column_names)-1))]]]\n",
    "\n",
    "# save data frame with pre-processed data to new file\n",
    "df.to_csv(os.path.join(eda_out_path, file), index=False)"
   ]
  }
 ],
 "metadata": {
  "kernelspec": {
   "display_name": "Python 3 (ipykernel)",
   "language": "python",
   "name": "python3"
  },
  "language_info": {
   "codemirror_mode": {
    "name": "ipython",
    "version": 3
   },
   "file_extension": ".py",
   "mimetype": "text/x-python",
   "name": "python",
   "nbconvert_exporter": "python",
   "pygments_lexer": "ipython3",
   "version": "3.8.15"
  }
 },
 "nbformat": 4,
 "nbformat_minor": 5
}
