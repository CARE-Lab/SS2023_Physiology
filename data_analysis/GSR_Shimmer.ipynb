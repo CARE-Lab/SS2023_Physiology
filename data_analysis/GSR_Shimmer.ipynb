{
 "cells": [
  {
   "cell_type": "code",
   "execution_count": 1,
   "id": "71e0a116",
   "metadata": {},
   "outputs": [],
   "source": [
    "import os\n",
    "import pandas as pd\n",
    "import numpy  as np\n",
    "from scipy.fft    import dct, idct\n",
    "from scipy.signal import butter, savgol_filter, ellip, filtfilt, detrend\n",
    "from matplotlib   import pylab as plt"
   ]
  },
  {
   "cell_type": "markdown",
   "id": "fc1687cc",
   "metadata": {},
   "source": [
    "## Loading data"
   ]
  },
  {
   "cell_type": "code",
   "execution_count": 2,
   "id": "ae471013",
   "metadata": {},
   "outputs": [],
   "source": [
    "# paths were the raw data is\n",
    "root_path = 'data/'\n",
    "data_path = os.path.join(root_path, 'Experiment')\n",
    "shimmer_path  = os.path.join(data_path, 'shimmer')\n",
    "\n",
    "# paths were the preprocessed data should be\n",
    "out_path = os.path.join(root_path, 'Processed')\n",
    "eda_out_path = os.path.join(out_path, 'EDA')\n",
    "\n",
    "# check if the output folders exist and create them if necessary\n",
    "for folder in [out_path, eda_out_path]:\n",
    "    if not os.path.exists(folder):\n",
    "        os.mkdir(folder)\n",
    "\n",
    "# list all files (ignoring the hidden macos file)\n",
    "shimmer_files = [x for x in os.listdir(shimmer_path) if x.endswith('.csv')]"
   ]
  },
  {
   "cell_type": "code",
   "execution_count": 3,
   "id": "8031abdd",
   "metadata": {},
   "outputs": [
    {
     "data": {
      "text/plain": [
       "['04_EDA_SS2023_Exp1_Session1_Shimmer_D210_Calibrated_SD.csv',\n",
       " '02_EMG_SS2023_Exp1_Session1_Shimmer_F16C_Calibrated_SD.csv',\n",
       " '04_EMG_SS2023_Exp1_Session1_Shimmer_EC93_Calibrated_SD.csv',\n",
       " 'Trigger_SS2023_Exp1_Session1_Shimmer_895A_Calibrated_SD.csv',\n",
       " '03_EDA_SS2023_Exp1_Session1_Shimmer_86D4_Calibrated_SD.csv',\n",
       " '03_EMG_SS2023_Exp1_Session1_Shimmer_EC8E_Calibrated_SD.csv',\n",
       " '01_EMG_SS2023_Exp1_Session1_Shimmer_F0BA_Calibrated_SD.csv']"
      ]
     },
     "execution_count": 3,
     "metadata": {},
     "output_type": "execute_result"
    }
   ],
   "source": [
    "shimmer_files"
   ]
  },
  {
   "cell_type": "code",
   "execution_count": 4,
   "id": "a25db620",
   "metadata": {},
   "outputs": [],
   "source": [
    "eda_path = shimmer_files[0]\n",
    "trigger_shimmer = shimmer_files[3]"
   ]
  },
  {
   "cell_type": "code",
   "execution_count": 5,
   "id": "267862ce",
   "metadata": {},
   "outputs": [
    {
     "data": {
      "text/plain": [
       "('04_EDA_SS2023_Exp1_Session1_Shimmer_D210_Calibrated_SD.csv',\n",
       " 'Trigger_SS2023_Exp1_Session1_Shimmer_895A_Calibrated_SD.csv')"
      ]
     },
     "execution_count": 5,
     "metadata": {},
     "output_type": "execute_result"
    }
   ],
   "source": [
    "eda_path, trigger_shimmer"
   ]
  },
  {
   "cell_type": "markdown",
   "id": "3442ac49",
   "metadata": {},
   "source": [
    "## Preprocessing"
   ]
  },
  {
   "cell_type": "code",
   "execution_count": 6,
   "id": "8150a2a8",
   "metadata": {},
   "outputs": [],
   "source": [
    "# Reshape a numpy array 'a' of shape (n, x) to form shape((n - window_size), window_size, x))\n",
    "def rolling_window(a, window, step_size):\n",
    "    shape = a.shape[:-1] + (a.shape[-1] - window + 1 - step_size + 1, window)\n",
    "    strides = a.strides + (a.strides[-1] * step_size,)\n",
    "    return np.lib.stride_tricks.as_strided(a, shape=shape, strides=strides)"
   ]
  },
  {
   "cell_type": "code",
   "execution_count": 7,
   "id": "f192a21f",
   "metadata": {},
   "outputs": [],
   "source": [
    "def filterTonicEDA(signal, coarsest=2):\n",
    "    X        = dct(signal) # discrete cosine transform\n",
    "    absX     = np.abs(X)   # keep magnitude only\n",
    "    absX[::-1].sort()      # sort in reverse order (descending)\n",
    "    absX[coarsest:] = 0    # remove components with less impact\n",
    "    tonic    = idct(absX)  # inverse discrete cosine transform\n",
    "    return signal - tonic, tonic # return phasic and tonic component"
   ]
  },
  {
   "cell_type": "code",
   "execution_count": 8,
   "id": "3215885a",
   "metadata": {},
   "outputs": [],
   "source": [
    "# pre-processing like in Perusquia, 2019: skin condunctance from neck and hand\n",
    "\n",
    "fs_eda     = 128  # sampling frequency of EDA data\n",
    "step_width = 1    # of sliding window\n",
    "winDur     = 0.1  # duration in seconds of sliding window\n",
    "N_win      = int(np.round(fs_eda * winDur)) # duration of sliding window in samples\n",
    "smoothing_fcn = np.mean # I could call np.mean(..) later but apparently it is faster this way\n",
    "winLen     = 1001 # sample duration of the savitzky golay filter\n",
    "order      = 1    # order of the savitzky golay filter\n",
    "\n",
    "filepath = os.path.join(shimmer_path, eda_path)\n",
    "df       = pd.read_csv(filepath, skiprows=[0,2], header=[0])"
   ]
  },
  {
   "cell_type": "code",
   "execution_count": 9,
   "id": "20a9d8f1",
   "metadata": {},
   "outputs": [
    {
     "data": {
      "text/html": [
       "<div>\n",
       "<style scoped>\n",
       "    .dataframe tbody tr th:only-of-type {\n",
       "        vertical-align: middle;\n",
       "    }\n",
       "\n",
       "    .dataframe tbody tr th {\n",
       "        vertical-align: top;\n",
       "    }\n",
       "\n",
       "    .dataframe thead th {\n",
       "        text-align: right;\n",
       "    }\n",
       "</style>\n",
       "<table border=\"1\" class=\"dataframe\">\n",
       "  <thead>\n",
       "    <tr style=\"text-align: right;\">\n",
       "      <th></th>\n",
       "      <th>Shimmer_D210_TimestampSync_Unix_CAL</th>\n",
       "      <th>Shimmer_D210_GSR_Range_CAL</th>\n",
       "      <th>Shimmer_D210_GSR_Skin_Conductance_CAL</th>\n",
       "      <th>Shimmer_D210_GSR_Skin_Resistance_CAL</th>\n",
       "      <th>Shimmer_D210_PPG_A13_CAL</th>\n",
       "      <th>Shimmer_D210_PPG_IBI_CAL</th>\n",
       "      <th>Shimmer_D210_PPGtoHR_CAL</th>\n",
       "      <th>Unnamed: 7</th>\n",
       "    </tr>\n",
       "  </thead>\n",
       "  <tbody>\n",
       "    <tr>\n",
       "      <th>0</th>\n",
       "      <td>1.677474e+12</td>\n",
       "      <td>1.0</td>\n",
       "      <td>0.063815</td>\n",
       "      <td>15670.2</td>\n",
       "      <td>12512.087912</td>\n",
       "      <td>-1.0</td>\n",
       "      <td>-1.0</td>\n",
       "      <td>NaN</td>\n",
       "    </tr>\n",
       "    <tr>\n",
       "      <th>1</th>\n",
       "      <td>1.677474e+12</td>\n",
       "      <td>1.0</td>\n",
       "      <td>0.063815</td>\n",
       "      <td>15670.2</td>\n",
       "      <td>1755.311355</td>\n",
       "      <td>-1.0</td>\n",
       "      <td>-1.0</td>\n",
       "      <td>NaN</td>\n",
       "    </tr>\n",
       "    <tr>\n",
       "      <th>2</th>\n",
       "      <td>1.677474e+12</td>\n",
       "      <td>1.0</td>\n",
       "      <td>0.063815</td>\n",
       "      <td>15670.2</td>\n",
       "      <td>1772.161172</td>\n",
       "      <td>-1.0</td>\n",
       "      <td>-1.0</td>\n",
       "      <td>NaN</td>\n",
       "    </tr>\n",
       "    <tr>\n",
       "      <th>3</th>\n",
       "      <td>1.677474e+12</td>\n",
       "      <td>1.0</td>\n",
       "      <td>0.063815</td>\n",
       "      <td>15670.2</td>\n",
       "      <td>1772.161172</td>\n",
       "      <td>-1.0</td>\n",
       "      <td>-1.0</td>\n",
       "      <td>NaN</td>\n",
       "    </tr>\n",
       "    <tr>\n",
       "      <th>4</th>\n",
       "      <td>1.677474e+12</td>\n",
       "      <td>1.0</td>\n",
       "      <td>0.063815</td>\n",
       "      <td>15670.2</td>\n",
       "      <td>1772.893773</td>\n",
       "      <td>-1.0</td>\n",
       "      <td>-1.0</td>\n",
       "      <td>NaN</td>\n",
       "    </tr>\n",
       "  </tbody>\n",
       "</table>\n",
       "</div>"
      ],
      "text/plain": [
       "   Shimmer_D210_TimestampSync_Unix_CAL  Shimmer_D210_GSR_Range_CAL  \\\n",
       "0                         1.677474e+12                         1.0   \n",
       "1                         1.677474e+12                         1.0   \n",
       "2                         1.677474e+12                         1.0   \n",
       "3                         1.677474e+12                         1.0   \n",
       "4                         1.677474e+12                         1.0   \n",
       "\n",
       "   Shimmer_D210_GSR_Skin_Conductance_CAL  \\\n",
       "0                               0.063815   \n",
       "1                               0.063815   \n",
       "2                               0.063815   \n",
       "3                               0.063815   \n",
       "4                               0.063815   \n",
       "\n",
       "   Shimmer_D210_GSR_Skin_Resistance_CAL  Shimmer_D210_PPG_A13_CAL  \\\n",
       "0                               15670.2              12512.087912   \n",
       "1                               15670.2               1755.311355   \n",
       "2                               15670.2               1772.161172   \n",
       "3                               15670.2               1772.161172   \n",
       "4                               15670.2               1772.893773   \n",
       "\n",
       "   Shimmer_D210_PPG_IBI_CAL  Shimmer_D210_PPGtoHR_CAL  Unnamed: 7  \n",
       "0                      -1.0                      -1.0         NaN  \n",
       "1                      -1.0                      -1.0         NaN  \n",
       "2                      -1.0                      -1.0         NaN  \n",
       "3                      -1.0                      -1.0         NaN  \n",
       "4                      -1.0                      -1.0         NaN  "
      ]
     },
     "execution_count": 9,
     "metadata": {},
     "output_type": "execute_result"
    }
   ],
   "source": [
    "df.head()"
   ]
  },
  {
   "cell_type": "code",
   "execution_count": 10,
   "id": "0c343fd3",
   "metadata": {},
   "outputs": [
    {
     "name": "stderr",
     "output_type": "stream",
     "text": [
      "<ipython-input-10-df798956831a>:9: UserWarning: Pandas doesn't allow columns to be created via a new attribute name - see https://pandas.pydata.org/pandas-docs/stable/indexing.html#attribute-access\n",
      "  df.data = np.concatenate((eda_filtered, np.zeros(N_win-1)))\n"
     ]
    }
   ],
   "source": [
    "# note: instead of usually writing df[\"data\"] we can write df.data\n",
    "# data should be replaced for a column name in the data frame\n",
    "buffer  = rolling_window(df.Shimmer_D210_GSR_Skin_Conductance_CAL.values, N_win, step_width)    # arrange data in 100 ms sliding windows\n",
    "smooth  = smoothing_fcn(buffer, axis=1) # mean average of 100 ms sliding windows\n",
    "phasic, tonic = filterTonicEDA(smooth)  # remove signal consisting of first 2 dct components only\n",
    "eda_filtered  = savgol_filter(phasic, winLen, order) # apply savitzky-golay filter\n",
    "# pad zeros at the end because sliding window makes the signal a bit shorter\n",
    "# and save it into the data frame loaded\n",
    "df.data = np.concatenate((eda_filtered, np.zeros(N_win-1)))\n",
    "df['tonic'] = np.concatenate((tonic, np.zeros(N_win-1)))\n",
    "df['phasic'] = np.concatenate((phasic, np.zeros(N_win-1)))\n",
    "\n",
    "# order columns so that data comes before labels\n",
    "df = df[df.columns[[0,1,-1,*list(range(2,len(column_names)-1))]]]\n",
    "\n",
    "# save data frame with pre-processed data to new file\n",
    "df.to_csv(os.path.join(eda_out_path, eda_path), index=False)"
   ]
  },
  {
   "cell_type": "code",
   "execution_count": 11,
   "id": "ab2b051d",
   "metadata": {},
   "outputs": [
    {
     "data": {
      "text/plain": [
       "array([0.06381539, 0.06381539, 0.06381539, ..., 0.00821401, 0.00821401,\n",
       "       0.00821401])"
      ]
     },
     "execution_count": 11,
     "metadata": {},
     "output_type": "execute_result"
    }
   ],
   "source": [
    "# This is to see how to get the values of the skin conductance from the data frame\n",
    "df.Shimmer_D210_GSR_Skin_Conductance_CAL.values"
   ]
  },
  {
   "cell_type": "code",
   "execution_count": 12,
   "id": "685c7bb9",
   "metadata": {},
   "outputs": [
    {
     "data": {
      "text/html": [
       "<div>\n",
       "<style scoped>\n",
       "    .dataframe tbody tr th:only-of-type {\n",
       "        vertical-align: middle;\n",
       "    }\n",
       "\n",
       "    .dataframe tbody tr th {\n",
       "        vertical-align: top;\n",
       "    }\n",
       "\n",
       "    .dataframe thead th {\n",
       "        text-align: right;\n",
       "    }\n",
       "</style>\n",
       "<table border=\"1\" class=\"dataframe\">\n",
       "  <thead>\n",
       "    <tr style=\"text-align: right;\">\n",
       "      <th></th>\n",
       "      <th>Shimmer_D210_TimestampSync_Unix_CAL</th>\n",
       "      <th>phasic</th>\n",
       "      <th>tonic</th>\n",
       "      <th>Shimmer_D210_GSR_Skin_Conductance_CAL</th>\n",
       "      <th>Shimmer_D210_GSR_Skin_Resistance_CAL</th>\n",
       "      <th>Shimmer_D210_PPG_A13_CAL</th>\n",
       "      <th>Shimmer_D210_PPG_IBI_CAL</th>\n",
       "      <th>Shimmer_D210_PPGtoHR_CAL</th>\n",
       "      <th>Unnamed: 7</th>\n",
       "    </tr>\n",
       "  </thead>\n",
       "  <tbody>\n",
       "    <tr>\n",
       "      <th>0</th>\n",
       "      <td>1.677474e+12</td>\n",
       "      <td>1.0</td>\n",
       "      <td>4.014588</td>\n",
       "      <td>0.063815</td>\n",
       "      <td>15670.2</td>\n",
       "      <td>12512.087912</td>\n",
       "      <td>-1.0</td>\n",
       "      <td>-1.0</td>\n",
       "      <td>NaN</td>\n",
       "    </tr>\n",
       "    <tr>\n",
       "      <th>1</th>\n",
       "      <td>1.677474e+12</td>\n",
       "      <td>1.0</td>\n",
       "      <td>4.014588</td>\n",
       "      <td>0.063815</td>\n",
       "      <td>15670.2</td>\n",
       "      <td>1755.311355</td>\n",
       "      <td>-1.0</td>\n",
       "      <td>-1.0</td>\n",
       "      <td>NaN</td>\n",
       "    </tr>\n",
       "    <tr>\n",
       "      <th>2</th>\n",
       "      <td>1.677474e+12</td>\n",
       "      <td>1.0</td>\n",
       "      <td>4.014588</td>\n",
       "      <td>0.063815</td>\n",
       "      <td>15670.2</td>\n",
       "      <td>1772.161172</td>\n",
       "      <td>-1.0</td>\n",
       "      <td>-1.0</td>\n",
       "      <td>NaN</td>\n",
       "    </tr>\n",
       "    <tr>\n",
       "      <th>3</th>\n",
       "      <td>1.677474e+12</td>\n",
       "      <td>1.0</td>\n",
       "      <td>4.014588</td>\n",
       "      <td>0.063815</td>\n",
       "      <td>15670.2</td>\n",
       "      <td>1772.161172</td>\n",
       "      <td>-1.0</td>\n",
       "      <td>-1.0</td>\n",
       "      <td>NaN</td>\n",
       "    </tr>\n",
       "    <tr>\n",
       "      <th>4</th>\n",
       "      <td>1.677474e+12</td>\n",
       "      <td>1.0</td>\n",
       "      <td>4.014588</td>\n",
       "      <td>0.063815</td>\n",
       "      <td>15670.2</td>\n",
       "      <td>1772.893773</td>\n",
       "      <td>-1.0</td>\n",
       "      <td>-1.0</td>\n",
       "      <td>NaN</td>\n",
       "    </tr>\n",
       "  </tbody>\n",
       "</table>\n",
       "</div>"
      ],
      "text/plain": [
       "   Shimmer_D210_TimestampSync_Unix_CAL  phasic     tonic  \\\n",
       "0                         1.677474e+12     1.0  4.014588   \n",
       "1                         1.677474e+12     1.0  4.014588   \n",
       "2                         1.677474e+12     1.0  4.014588   \n",
       "3                         1.677474e+12     1.0  4.014588   \n",
       "4                         1.677474e+12     1.0  4.014588   \n",
       "\n",
       "   Shimmer_D210_GSR_Skin_Conductance_CAL  \\\n",
       "0                               0.063815   \n",
       "1                               0.063815   \n",
       "2                               0.063815   \n",
       "3                               0.063815   \n",
       "4                               0.063815   \n",
       "\n",
       "   Shimmer_D210_GSR_Skin_Resistance_CAL  Shimmer_D210_PPG_A13_CAL  \\\n",
       "0                               15670.2              12512.087912   \n",
       "1                               15670.2               1755.311355   \n",
       "2                               15670.2               1772.161172   \n",
       "3                               15670.2               1772.161172   \n",
       "4                               15670.2               1772.893773   \n",
       "\n",
       "   Shimmer_D210_PPG_IBI_CAL  Shimmer_D210_PPGtoHR_CAL  Unnamed: 7  \n",
       "0                      -1.0                      -1.0         NaN  \n",
       "1                      -1.0                      -1.0         NaN  \n",
       "2                      -1.0                      -1.0         NaN  \n",
       "3                      -1.0                      -1.0         NaN  \n",
       "4                      -1.0                      -1.0         NaN  "
      ]
     },
     "execution_count": 12,
     "metadata": {},
     "output_type": "execute_result"
    }
   ],
   "source": [
    "# In here you can see that the decomposed phasic and tonic columns have been added\n",
    "df.head()"
   ]
  },
  {
   "cell_type": "code",
   "execution_count": 13,
   "id": "34207031",
   "metadata": {},
   "outputs": [
    {
     "data": {
      "text/plain": [
       "[<matplotlib.lines.Line2D at 0x7f992a71c2e0>]"
      ]
     },
     "execution_count": 13,
     "metadata": {},
     "output_type": "execute_result"
    },
    {
     "data": {
      "image/png": "[encoded data removed]",
      "text/plain": [
       "<Figure size 432x288 with 1 Axes>"
      ]
     },
     "metadata": {
      "needs_background": "light"
     },
     "output_type": "display_data"
    }
   ],
   "source": [
    "# This is to check the plot of the data, in this example, it looks noisy, so a filter is missing\n",
    "plt.plot(df.Shimmer_D210_GSR_Skin_Conductance_CAL.values)"
   ]
  },
  {
   "cell_type": "code",
   "execution_count": 14,
   "id": "c2f13977",
   "metadata": {},
   "outputs": [
    {
     "data": {
      "text/plain": [
       "[<matplotlib.lines.Line2D at 0x7f992a741e50>]"
      ]
     },
     "execution_count": 14,
     "metadata": {},
     "output_type": "execute_result"
    },
    {
     "data": {
      "image/png": "[encoded data removed]",
      "text/plain": [
       "<Figure size 432x288 with 1 Axes>"
      ]
     },
     "metadata": {
      "needs_background": "light"
     },
     "output_type": "display_data"
    }
   ],
   "source": [
    "# This plots the decomposed tonic signal\n",
    "plt.plot(df.tonic)"
   ]
  },
  {
   "cell_type": "code",
   "execution_count": 15,
   "id": "21fd56e1",
   "metadata": {},
   "outputs": [
    {
     "data": {
      "text/plain": [
       "[<matplotlib.lines.Line2D at 0x7f9918781ca0>]"
      ]
     },
     "execution_count": 15,
     "metadata": {},
     "output_type": "execute_result"
    },
    {
     "data": {
      "image/png": "[encoded data removed]",
      "text/plain": [
       "<Figure size 432x288 with 1 Axes>"
      ]
     },
     "metadata": {
      "needs_background": "light"
     },
     "output_type": "display_data"
    }
   ],
   "source": [
    "# This plots the decomposed phasic signal, it is noisy as the signal\n",
    "plt.plot(df.phasic)"
   ]
  },
  {
   "cell_type": "code",
   "execution_count": null,
   "id": "29118787",
   "metadata": {},
   "outputs": [],
   "source": []
  }
 ],
 "metadata": {
  "kernelspec": {
   "display_name": "Python 3",
   "language": "python",
   "name": "python3"
  },
  "language_info": {
   "codemirror_mode": {
    "name": "ipython",
    "version": 3
   },
   "file_extension": ".py",
   "mimetype": "text/x-python",
   "name": "python",
   "nbconvert_exporter": "python",
   "pygments_lexer": "ipython3",
   "version": "3.8.5"
  }
 },
 "nbformat": 4,
 "nbformat_minor": 5
}
